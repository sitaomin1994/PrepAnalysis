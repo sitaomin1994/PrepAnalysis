{
 "cells": [
  {
   "cell_type": "code",
   "execution_count": 1,
   "metadata": {},
   "outputs": [],
   "source": [
    "import pandas as pd\n",
    "from datetime import datetime, timedelta, time, date\n",
    "import numpy as np\n",
    "from scipy.spatial import distance\n",
    "import matplotlib.pyplot as plt\n",
    "import pickle\n",
    "import json\n",
    "pd.set_option('display.max_rows', 200)\n",
    "%matplotlib inline"
   ]
  },
  {
   "cell_type": "code",
   "execution_count": 2,
   "metadata": {},
   "outputs": [],
   "source": [
    "import pickle\n",
    "import json\n",
    "def write_pickle(data, path):\n",
    "    \n",
    "    with open(path, \"wb\") as f:\n",
    "        pickle.dump(data, f)\n",
    "\n",
    "def read_pickle(path):\n",
    "    \n",
    "    with open(path, \"rb\") as f:\n",
    "        return pickle.load(f)\n",
    "    \n",
    "def write_json(data, path):\n",
    "    \n",
    "    with open(path, \"w\") as f:\n",
    "        json.dump(data, f)\n",
    "        \n",
    "def read_json(path):\n",
    "    \n",
    "    with open(path, \"rb\") as f:\n",
    "        return json.load(f)"
   ]
  },
  {
   "cell_type": "code",
   "execution_count": 3,
   "metadata": {},
   "outputs": [],
   "source": [
    "# split and merge the time interval across the two days\n",
    "\n",
    "def generate_time_range(row):\n",
    "    \n",
    "    start_date = row['start_time'].date()\n",
    "    end_date = row['end_time'].date()\n",
    "    \n",
    "    if(start_date < end_date):\n",
    "        result = []\n",
    "        divide_line_dt = datetime.combine(start_date+timedelta(days = 1), time(0,0))\n",
    "        result.append((row['start_time'], divide_line_dt))\n",
    "        \n",
    "        while(divide_line_dt.date() < end_date):\n",
    "            result.append((divide_line_dt, divide_line_dt + timedelta(days = 1)))\n",
    "            divide_line_dt = divide_line_dt + timedelta(days = 1)\n",
    "        \n",
    "        result.append((divide_line_dt, row['end_time']))\n",
    "            \n",
    "        return result\n",
    "        \n",
    "    else:\n",
    "        return [(row['start_time'], row['end_time'])]\n",
    "\n",
    "def split_continuous_time(df):\n",
    "    \n",
    "    # cross time range\n",
    "    cross = df[df['start_time'].dt.date != df['end_time'].dt.date].copy()\n",
    "    non_cross = df[df['start_time'].dt.date == df['end_time'].dt.date]\n",
    "    \n",
    "    cross['time_range'] = cross.apply(lambda row:generate_time_range(row), axis = 1)\n",
    "    \n",
    "    cross = cross.explode('time_range')\n",
    "    cross['start_time'] = cross.apply(lambda row: row['time_range'][0], axis = 1)\n",
    "    cross['end_time'] = cross.apply(lambda row: row['time_range'][1], axis = 1)\n",
    "    \n",
    "    cross = cross.drop('time_range', axis = 1)\n",
    "    \n",
    "    df = pd.concat([non_cross, cross])\n",
    "    \n",
    "    return df"
   ]
  },
  {
   "cell_type": "markdown",
   "metadata": {},
   "source": [
    "## Data Preprocessing"
   ]
  },
  {
   "cell_type": "markdown",
   "metadata": {},
   "source": [
    "## Main"
   ]
  },
  {
   "cell_type": "code",
   "execution_count": 4,
   "metadata": {
    "scrolled": false
   },
   "outputs": [
    {
     "name": "stdout",
     "output_type": "stream",
     "text": [
      "(1841873, 10)\n",
      "device_id     object\n",
      "building      object\n",
      "start_time    object\n",
      "end_time      object\n",
      "n_records      int64\n",
      "n_ap           int64\n",
      "user_id       object\n",
      "user_id_m     object\n",
      "ssid          object\n",
      "ssid_m        object\n",
      "dtype: object\n",
      "155\n"
     ]
    },
    {
     "data": {
      "text/html": [
       "<div>\n",
       "<style scoped>\n",
       "    .dataframe tbody tr th:only-of-type {\n",
       "        vertical-align: middle;\n",
       "    }\n",
       "\n",
       "    .dataframe tbody tr th {\n",
       "        vertical-align: top;\n",
       "    }\n",
       "\n",
       "    .dataframe thead th {\n",
       "        text-align: right;\n",
       "    }\n",
       "</style>\n",
       "<table border=\"1\" class=\"dataframe\">\n",
       "  <thead>\n",
       "    <tr style=\"text-align: right;\">\n",
       "      <th></th>\n",
       "      <th>device_id</th>\n",
       "      <th>building</th>\n",
       "      <th>start_time</th>\n",
       "      <th>end_time</th>\n",
       "      <th>n_records</th>\n",
       "      <th>n_ap</th>\n",
       "      <th>user_id</th>\n",
       "      <th>user_id_m</th>\n",
       "      <th>ssid</th>\n",
       "      <th>ssid_m</th>\n",
       "      <th>duration</th>\n",
       "    </tr>\n",
       "  </thead>\n",
       "  <tbody>\n",
       "    <tr>\n",
       "      <th>0</th>\n",
       "      <td>00010d9212f1dd42c505bc37917fe7843acdcec7</td>\n",
       "      <td>rzc</td>\n",
       "      <td>2020-08-27 09:33:00</td>\n",
       "      <td>2020-08-27 09:33:00</td>\n",
       "      <td>2</td>\n",
       "      <td>1</td>\n",
       "      <td>['6ed3ad5351155640be9fdb2a5fa4610452f86a95']</td>\n",
       "      <td>6ed3ad5351155640be9fdb2a5fa4610452f86a95</td>\n",
       "      <td>['USC Secure Wireless']</td>\n",
       "      <td>USC Secure Wireless</td>\n",
       "      <td>0 days 00:00:00</td>\n",
       "    </tr>\n",
       "    <tr>\n",
       "      <th>1</th>\n",
       "      <td>00014b5eb675babe57e4da111eb66704a6210ef1</td>\n",
       "      <td>dwe-gate6</td>\n",
       "      <td>2020-09-02 12:08:00</td>\n",
       "      <td>2020-09-02 12:09:00</td>\n",
       "      <td>1</td>\n",
       "      <td>1</td>\n",
       "      <td>['27d3d1b265a29b735b64f913179720ee4996840a']</td>\n",
       "      <td>27d3d1b265a29b735b64f913179720ee4996840a</td>\n",
       "      <td>['USC Secure Wireless']</td>\n",
       "      <td>USC Secure Wireless</td>\n",
       "      <td>0 days 00:01:00</td>\n",
       "    </tr>\n",
       "    <tr>\n",
       "      <th>2</th>\n",
       "      <td>00014b5eb675babe57e4da111eb66704a6210ef1</td>\n",
       "      <td>dwe-gate6</td>\n",
       "      <td>2020-09-02 12:33:00</td>\n",
       "      <td>2020-09-02 12:34:00</td>\n",
       "      <td>1</td>\n",
       "      <td>1</td>\n",
       "      <td>['27d3d1b265a29b735b64f913179720ee4996840a']</td>\n",
       "      <td>27d3d1b265a29b735b64f913179720ee4996840a</td>\n",
       "      <td>['USC Secure Wireless']</td>\n",
       "      <td>USC Secure Wireless</td>\n",
       "      <td>0 days 00:01:00</td>\n",
       "    </tr>\n",
       "    <tr>\n",
       "      <th>3</th>\n",
       "      <td>00014b5eb675babe57e4da111eb66704a6210ef1</td>\n",
       "      <td>eeb</td>\n",
       "      <td>2020-09-02 12:12:00</td>\n",
       "      <td>2020-09-02 12:12:00</td>\n",
       "      <td>1</td>\n",
       "      <td>1</td>\n",
       "      <td>['27d3d1b265a29b735b64f913179720ee4996840a']</td>\n",
       "      <td>27d3d1b265a29b735b64f913179720ee4996840a</td>\n",
       "      <td>['USC Secure Wireless']</td>\n",
       "      <td>USC Secure Wireless</td>\n",
       "      <td>0 days 00:00:00</td>\n",
       "    </tr>\n",
       "    <tr>\n",
       "      <th>4</th>\n",
       "      <td>00014b5eb675babe57e4da111eb66704a6210ef1</td>\n",
       "      <td>gee-gate8</td>\n",
       "      <td>2020-09-10 11:24:00</td>\n",
       "      <td>2020-09-10 11:27:00</td>\n",
       "      <td>2</td>\n",
       "      <td>1</td>\n",
       "      <td>['27d3d1b265a29b735b64f913179720ee4996840a']</td>\n",
       "      <td>27d3d1b265a29b735b64f913179720ee4996840a</td>\n",
       "      <td>['USC Secure Wireless']</td>\n",
       "      <td>USC Secure Wireless</td>\n",
       "      <td>0 days 00:03:00</td>\n",
       "    </tr>\n",
       "  </tbody>\n",
       "</table>\n",
       "</div>"
      ],
      "text/plain": [
       "                                  device_id   building          start_time  \\\n",
       "0  00010d9212f1dd42c505bc37917fe7843acdcec7        rzc 2020-08-27 09:33:00   \n",
       "1  00014b5eb675babe57e4da111eb66704a6210ef1  dwe-gate6 2020-09-02 12:08:00   \n",
       "2  00014b5eb675babe57e4da111eb66704a6210ef1  dwe-gate6 2020-09-02 12:33:00   \n",
       "3  00014b5eb675babe57e4da111eb66704a6210ef1        eeb 2020-09-02 12:12:00   \n",
       "4  00014b5eb675babe57e4da111eb66704a6210ef1  gee-gate8 2020-09-10 11:24:00   \n",
       "\n",
       "             end_time  n_records  n_ap  \\\n",
       "0 2020-08-27 09:33:00          2     1   \n",
       "1 2020-09-02 12:09:00          1     1   \n",
       "2 2020-09-02 12:34:00          1     1   \n",
       "3 2020-09-02 12:12:00          1     1   \n",
       "4 2020-09-10 11:27:00          2     1   \n",
       "\n",
       "                                        user_id  \\\n",
       "0  ['6ed3ad5351155640be9fdb2a5fa4610452f86a95']   \n",
       "1  ['27d3d1b265a29b735b64f913179720ee4996840a']   \n",
       "2  ['27d3d1b265a29b735b64f913179720ee4996840a']   \n",
       "3  ['27d3d1b265a29b735b64f913179720ee4996840a']   \n",
       "4  ['27d3d1b265a29b735b64f913179720ee4996840a']   \n",
       "\n",
       "                                  user_id_m                     ssid  \\\n",
       "0  6ed3ad5351155640be9fdb2a5fa4610452f86a95  ['USC Secure Wireless']   \n",
       "1  27d3d1b265a29b735b64f913179720ee4996840a  ['USC Secure Wireless']   \n",
       "2  27d3d1b265a29b735b64f913179720ee4996840a  ['USC Secure Wireless']   \n",
       "3  27d3d1b265a29b735b64f913179720ee4996840a  ['USC Secure Wireless']   \n",
       "4  27d3d1b265a29b735b64f913179720ee4996840a  ['USC Secure Wireless']   \n",
       "\n",
       "                ssid_m        duration  \n",
       "0  USC Secure Wireless 0 days 00:00:00  \n",
       "1  USC Secure Wireless 0 days 00:01:00  \n",
       "2  USC Secure Wireless 0 days 00:01:00  \n",
       "3  USC Secure Wireless 0 days 00:00:00  \n",
       "4  USC Secure Wireless 0 days 00:03:00  "
      ]
     },
     "execution_count": 4,
     "metadata": {},
     "output_type": "execute_result"
    }
   ],
   "source": [
    "df = pd.read_csv('./data/raw_data_all_merge_time.csv')\n",
    "print(df.shape)\n",
    "print(df.dtypes)\n",
    "print(len(df.building.unique()))\n",
    "\n",
    "#convert types\n",
    "df['start_time'] = pd.to_datetime(df['start_time'])\n",
    "df['end_time'] = pd.to_datetime(df['end_time'])\n",
    "df['duration'] = df['end_time'] - df['start_time']\n",
    "\n",
    "df.head()"
   ]
  },
  {
   "cell_type": "code",
   "execution_count": 5,
   "metadata": {
    "scrolled": false
   },
   "outputs": [
    {
     "name": "stdout",
     "output_type": "stream",
     "text": [
      "(1912153, 12)\n"
     ]
    }
   ],
   "source": [
    "# generate date\n",
    "df = split_continuous_time(df)\n",
    "df['date'] = df['start_time'].dt.date\n",
    "print(df.shape)"
   ]
  },
  {
   "cell_type": "code",
   "execution_count": 6,
   "metadata": {},
   "outputs": [
    {
     "name": "stdout",
     "output_type": "stream",
     "text": [
      "(20381, 12)\n",
      "(67628, 12)\n",
      "(20155, 12)\n",
      "(1755622, 12)\n"
     ]
    }
   ],
   "source": [
    "# filter device\n",
    "# data shape\n",
    "print(df[df['start_time'] < datetime(2020, 8, 24)].shape)\n",
    "print(df[df['duration'] > timedelta(days = 1)].shape)\n",
    "df_filter = df[df['start_time'] < datetime(2020, 8, 24)]\n",
    "print(df_filter[df_filter['duration'] > timedelta(days = 1)].shape)\n",
    "\n",
    "# device list\n",
    "device_long_connected_before_initial = df[((df['start_time'] < datetime(2020, 8, 24)) & ((df['start_time'] + df['duration']) > datetime(2020, 8, 24)))]['device_id'].unique()\n",
    "device_long_connected = df[df['duration'] >= timedelta(days = 1)]['device_id'].unique()\n",
    "\n",
    "# filter\n",
    "df = df[df['start_time'] >= datetime(2020, 8, 24)]\n",
    "df = df[df['end_time'] <= datetime(2020,9,21)]\n",
    "df = df[df['duration'] < timedelta(days = 1)]\n",
    "\n",
    "df = df[~df['device_id'].isin(device_long_connected)]\n",
    "\n",
    "print(df.shape)\n",
    "\n",
    "# new duration set by new splited end and start time\n",
    "df['duration'] = df['end_time'] - df['start_time']"
   ]
  },
  {
   "cell_type": "markdown",
   "metadata": {},
   "source": [
    "#### Group data"
   ]
  },
  {
   "cell_type": "code",
   "execution_count": 7,
   "metadata": {},
   "outputs": [
    {
     "name": "stdout",
     "output_type": "stream",
     "text": [
      "1032673\n",
      "(1032673, 6)\n",
      "32244\n"
     ]
    },
    {
     "name": "stderr",
     "output_type": "stream",
     "text": [
      "C:\\Users\\Administrator\\miniconda3\\envs\\min\\lib\\site-packages\\pandas\\core\\arrays\\timedeltas.py:569: RuntimeWarning: invalid value encountered in true_divide\n",
      "  return other / self._data\n"
     ]
    }
   ],
   "source": [
    "# group data\n",
    "g = df.groupby(['device_id', 'date', 'building'], as_index = False)\n",
    "print(g.ngroups)\n",
    "df_agg = g.agg(duration = ('duration', 'sum'),begin = ('start_time', 'min'), end = ('end_time', 'max'))\n",
    "print(df_agg.shape)\n",
    "print(df_agg['device_id'].nunique())\n",
    "\n",
    "pc = df_agg['duration']/(df_agg['end'] - df_agg['begin'])"
   ]
  },
  {
   "cell_type": "code",
   "execution_count": 8,
   "metadata": {},
   "outputs": [
    {
     "name": "stdout",
     "output_type": "stream",
     "text": [
      "95\n",
      "21561\n"
     ]
    }
   ],
   "source": [
    "f1 = df_agg.groupby(['device_id','date'], as_index = False).agg(\n",
    "    duration = ('duration', 'sum'), n_building = ('building', 'count'))\n",
    "\n",
    "print(len(f1[f1['duration'] >= timedelta(hours = 20)]['device_id'].unique()))\n",
    "print(len(f1[f1['duration'] < timedelta(minutes = 30)]['device_id'].unique()))"
   ]
  },
  {
   "cell_type": "code",
   "execution_count": 9,
   "metadata": {},
   "outputs": [
    {
     "name": "stdout",
     "output_type": "stream",
     "text": [
      "25372\n",
      "6\n",
      "14060\n",
      "13433\n"
     ]
    }
   ],
   "source": [
    "f1['long_connect'] = f1['duration'] >= timedelta(hours = 20)\n",
    "f1['short_connect'] = f1['duration'] <= timedelta(minutes = 30)\n",
    "f2 = f1.groupby(['device_id'], as_index = False).agg(n_days = ('date', 'count'), \n",
    "                                          long_days = ('long_connect', lambda x:x[x == True].shape[0]),\n",
    "                                          short_days = ('short_connect', lambda x:x[x==True].shape[0]))\n",
    "\n",
    "device_no_visit = f2[f2['n_days'] <= 7]['device_id'].unique()\n",
    "print(len(device_no_visit))\n",
    "device_long_visit = f2[f2['long_days']/f2['n_days'] > 0.9]['device_id'].unique()\n",
    "print(len(device_long_visit))\n",
    "device_short_visit = f2[f2['short_days']/f2['n_days'] >= 1]['device_id'].unique()\n",
    "print(len(device_short_visit))\n",
    "\n",
    "print(len(set(device_no_visit).intersection(set(device_short_visit))))"
   ]
  },
  {
   "cell_type": "markdown",
   "metadata": {},
   "source": [
    "#### Filter data"
   ]
  },
  {
   "cell_type": "code",
   "execution_count": 10,
   "metadata": {},
   "outputs": [
    {
     "name": "stdout",
     "output_type": "stream",
     "text": [
      "0.9995729529095851\n",
      "67\n",
      "(1728232, 12)\n",
      "25372\n",
      "(1364603, 12)\n"
     ]
    }
   ],
   "source": [
    "df_filtered = df[df['device_id'].isin(device_no_visit)].shape\n",
    "\n",
    "# filter device\n",
    "# 1. device which connected more than 20 hours in a day in a building and connected more than 22 hours in a day\n",
    "\n",
    "print(df_agg[df_agg['duration'] <= timedelta(hours = 20)].shape[0]/df_agg.shape[0])\n",
    "long_connected_device = list(df_agg[df_agg['duration'] >= timedelta(hours = 20)]['device_id'].unique())\n",
    "print(len(long_connected_device))\n",
    "\n",
    "long_connected_device_day = f1[f1['duration'] >= timedelta(hours = 22)]['device_id'].unique()\n",
    "\n",
    "\n",
    "df_filter = df[~df['device_id'].isin(long_connected_device)]\n",
    "df_filter = df_filter[~df_filter['device_id'].isin(long_connected_device)]\n",
    "\n",
    "print(df_filter.shape)\n",
    "\n",
    "# 2. device which show campus not more than 5 days\n",
    "\n",
    "device_no_visit = f2[f2['n_days'] <= 7]['device_id'].unique()\n",
    "print(len(device_no_visit))\n",
    "\n",
    "df_filter = df_filter[~df_filter['device_id'].isin(device_no_visit)]\n",
    "\n",
    "print(df_filter.shape)"
   ]
  },
  {
   "cell_type": "code",
   "execution_count": 11,
   "metadata": {},
   "outputs": [
    {
     "data": {
      "text/plain": [
       "6825"
      ]
     },
     "execution_count": 11,
     "metadata": {},
     "output_type": "execute_result"
    }
   ],
   "source": [
    "df_filter['device_id'].nunique()"
   ]
  },
  {
   "cell_type": "code",
   "execution_count": 12,
   "metadata": {},
   "outputs": [],
   "source": [
    "df_filter.to_csv('raw_data_filtered.csv', index = False)"
   ]
  },
  {
   "cell_type": "markdown",
   "metadata": {},
   "source": [
    "#### Filter v2"
   ]
  },
  {
   "cell_type": "code",
   "execution_count": 13,
   "metadata": {},
   "outputs": [],
   "source": [
    "df = pd.read_csv('./data/raw_data_filtered.csv')\n",
    "df = df.drop(['user_id', 'user_id_m', 'ssid', 'ssid_m', 'duration', 'n_ap', 'n_records'], axis = 1)"
   ]
  },
  {
   "cell_type": "code",
   "execution_count": 14,
   "metadata": {},
   "outputs": [],
   "source": [
    "df['start_time'] = pd.to_datetime(df['start_time'])\n",
    "df['end_time'] = pd.to_datetime(df['end_time'])\n",
    "df['duration'] = df['end_time'] - df['start_time']\n",
    "df['date'] = df['start_time'].dt.date\n",
    "df['weekday'] = df['start_time'].dt.weekday + 1\n",
    "df = df[['device_id', 'date', 'duration', 'building', 'weekday', 'start_time', 'end_time']]"
   ]
  },
  {
   "cell_type": "code",
   "execution_count": 141,
   "metadata": {},
   "outputs": [],
   "source": [
    "# drop records which duration less than 20 minues\n",
    "\n",
    "df = df[df['duration'] >= timedelta(minutes = 60)]\n",
    "df = df.sort_values(['device_id', 'date', 'start_time'])\n",
    "\n",
    "df = df.reset_index()\n",
    "df = df.drop('index', axis = 1)"
   ]
  },
  {
   "cell_type": "markdown",
   "metadata": {},
   "source": [
    "### Feature Generation"
   ]
  },
  {
   "cell_type": "markdown",
   "metadata": {},
   "source": [
    "#### Time: weekday, holiday, time slot (6:00 - 12:00) (12:00 - 18:00) (18:00 - 24:00) (24:00 -6:00)"
   ]
  },
  {
   "cell_type": "code",
   "execution_count": 142,
   "metadata": {},
   "outputs": [],
   "source": [
    "def generate_hour(row):\n",
    "    \n",
    "    start_minute = row['start_time'].minute\n",
    "    duration = row['duration'].seconds/60\n",
    "    hour = row['start_time'].hour\n",
    "    \n",
    "    if start_minute + duration <= 60:\n",
    "        return hour\n",
    "    elif start_minute + duration >= 120:\n",
    "        return hour + 1\n",
    "    else:\n",
    "        left = 60 - start_minute  # this is | start time - |\n",
    "        right = duration + start_minute - 60  # this is | - end time|\n",
    "        \n",
    "        return hour if left >= right else hour+1\n",
    "        \n",
    "\n",
    "df['hour'] = df.apply(lambda row: generate_hour(row), axis = 1)"
   ]
  },
  {
   "cell_type": "code",
   "execution_count": 143,
   "metadata": {},
   "outputs": [],
   "source": [
    "def generate_day_range(row):\n",
    "    \n",
    "    hour = row['hour']\n",
    "    \n",
    "    if hour >= 0 and hour < 6:\n",
    "        return 'late_night'\n",
    "    elif hour >= 6 and hour < 11:\n",
    "        return 'morning'\n",
    "    elif hour >= 11 and hour < 13:\n",
    "        return 'noon'\n",
    "    elif hour >= 13 and hour < 18:\n",
    "        return 'afternoon'\n",
    "    elif hour >= 18 and hour < 20:\n",
    "        return 'evening'\n",
    "    else:\n",
    "        return 'night'\n",
    "    \n",
    "df['day_range'] = df.apply(lambda row: generate_day_range(row), axis = 1)"
   ]
  },
  {
   "cell_type": "code",
   "execution_count": 144,
   "metadata": {},
   "outputs": [],
   "source": [
    "from pandas.tseries.holiday import USFederalHolidayCalendar as calendar\n",
    "\n",
    "cal = calendar()\n",
    "dr = df['date']\n",
    "holidays = cal.holidays(start=dr.min(), end=dr.max())\n",
    "df['holiday'] = df['date'].isin(holidays)"
   ]
  },
  {
   "cell_type": "markdown",
   "metadata": {},
   "source": [
    "#### History features\n",
    "\n",
    "1. previous dates total time spend in each building/toal time spend on campus - e.g. RTH 0.5 ESH 0.2\n",
    "2. previous dates total time spend in each building in this time range on campus - e.g. RTH 0.2 ESH 0.5\n",
    "3. Building name"
   ]
  },
  {
   "cell_type": "code",
   "execution_count": 145,
   "metadata": {},
   "outputs": [],
   "source": [
    "df = df.sort_values(['device_id', 'date'], axis = 0)\n",
    "\n",
    "group = df.groupby(['device_id', \"date\", \"building\"]).agg(duration = ('duration', 'sum'))\n",
    "group = group.unstack(fill_value=timedelta(minutes = 0))\n",
    "group = group.groupby(level = -2).apply(lambda row: row.cumsum().shift(1, fill_value = timedelta(minutes = 0)))\n",
    "group.columns = group.columns.droplevel(level = 0)\n",
    "group.columns.name = None\n",
    "history_columns = group.columns.values\n",
    "group = group.reset_index()\n",
    "new_df = pd.merge(df, group,  how='left', left_on=['device_id','date'], right_on = ['device_id','date'])\n",
    "\n",
    "history = new_df[history_columns]\n",
    "history = history/np.timedelta64(1, 'm')\n",
    "history = history.div(history.sum(axis=1), axis=0)\n",
    "\n",
    "del new_df"
   ]
  },
  {
   "cell_type": "code",
   "execution_count": 146,
   "metadata": {},
   "outputs": [],
   "source": [
    "df = df.sort_values(['device_id', 'day_range', 'date'], axis = 0)\n",
    "\n",
    "group = df.groupby(['device_id', \"day_range\", \"date\", \"building\"]).agg(duration = ('duration', 'sum'))\n",
    "group = group.unstack(fill_value=timedelta(minutes = 0))\n",
    "\n",
    "group = group.groupby(level = -2).apply(lambda row: row.cumsum().shift(1, fill_value = timedelta(minutes = 0)))\n",
    "group.columns = group.columns.droplevel(level = 0)\n",
    "group.columns.name = None\n",
    "history_t_columns = group.columns.values\n",
    "group = group.reset_index()\n",
    "new_df_t = pd.merge(df, group,  how='left', left_on=['device_id','day_range', 'date'], right_on = ['device_id','day_range', 'date'])\n",
    "\n",
    "history_t = new_df_t[history_t_columns]\n",
    "history_t = history_t/np.timedelta64(1, 'm')\n",
    "history_t = history_t.div(history_t.sum(axis=1), axis=0)\n",
    "history_t = history_t.add_prefix('t_')\n",
    "\n",
    "del new_df_t"
   ]
  },
  {
   "cell_type": "raw",
   "metadata": {},
   "source": [
    "def generate_history_building_prob(row, df):\n",
    "    \n",
    "    user_history = df[(df['date'] < row['date'])&(df['device_id'] == row['device_id'])]\n",
    "        \n",
    "    if user_history.shape[0] == 0:   # if no records, -> first records for user then set 0\n",
    "        \n",
    "        return dict()\n",
    "    \n",
    "    else:\n",
    "        \n",
    "        total_time = user_history['duration'].sum()        \n",
    "        duration = user_history.groupby('building').agg(duration = ('duration', 'sum'))['duration'].dt.seconds/total_time.seconds\n",
    "        \n",
    "        return duration.to_dict()\n",
    "    \n",
    "history = df.apply(lambda row: generate_history_building_prob(row, df[['date', 'building', 'duration', 'device_id']]), axis = 1)\n",
    "history = history.apply(pd.Series).fillna(0)\n",
    "\n",
    "def generate_history_building_prob_t(row, df):\n",
    "    \n",
    "    user_history = df[(df['date'] < row['date'])&(df['device_id'] == row['device_id'])&(df['day_range'] == row['day_range'])]\n",
    "        \n",
    "    if user_history.shape[0] == 0:   # if no records, -> first records for user then set 0\n",
    "        \n",
    "        return dict()\n",
    "    \n",
    "    else:\n",
    "        \n",
    "        total_time = user_history['duration'].sum()        \n",
    "        duration = user_history.groupby('building').agg(duration = ('duration', 'sum'))['duration'].dt.seconds/total_time.seconds\n",
    "        \n",
    "        return duration.to_dict()\n",
    "    \n",
    "history_t = df.apply(lambda row: generate_history_building_prob(row, df[['date', 'building', 'duration', 'device_id', 'day_range']]), axis = 1)\n",
    "history_t = history.apply(pd.Series).fillna(0)"
   ]
  },
  {
   "cell_type": "code",
   "execution_count": null,
   "metadata": {},
   "outputs": [],
   "source": [
    "history.to_csv('./data/history_m60.csv', index = False)"
   ]
  },
  {
   "cell_type": "code",
   "execution_count": 147,
   "metadata": {},
   "outputs": [],
   "source": [
    "# fit inifite and nan\n",
    "def impute_inf_nan(df):\n",
    "    df[df==np.inf]=np.nan\n",
    "    df.fillna(0, inplace=True)\n",
    "    return df\n",
    "\n",
    "history = impute_inf_nan(history)\n",
    "history_t = impute_inf_nan(history_t)"
   ]
  },
  {
   "cell_type": "code",
   "execution_count": 148,
   "metadata": {},
   "outputs": [],
   "source": [
    "df = pd.concat([df, history, history_t], axis = 1)"
   ]
  },
  {
   "cell_type": "markdown",
   "metadata": {},
   "source": [
    "#### feature selection and convert types"
   ]
  },
  {
   "cell_type": "code",
   "execution_count": 149,
   "metadata": {},
   "outputs": [],
   "source": [
    "df['duration'] = df['duration'].dt.seconds/60\n",
    "df = df.drop(['start_time', 'end_time'], axis = 1)"
   ]
  },
  {
   "cell_type": "code",
   "execution_count": null,
   "metadata": {},
   "outputs": [],
   "source": [
    "#df['target'] = 1 # binary classification"
   ]
  },
  {
   "cell_type": "code",
   "execution_count": null,
   "metadata": {},
   "outputs": [],
   "source": [
    "df.shape"
   ]
  },
  {
   "cell_type": "markdown",
   "metadata": {},
   "source": [
    "### ML Model Basic"
   ]
  },
  {
   "cell_type": "code",
   "execution_count": 150,
   "metadata": {},
   "outputs": [],
   "source": [
    "df_final = df.copy()"
   ]
  },
  {
   "cell_type": "code",
   "execution_count": 151,
   "metadata": {},
   "outputs": [
    {
     "data": {
      "text/html": [
       "<div>\n",
       "<style scoped>\n",
       "    .dataframe tbody tr th:only-of-type {\n",
       "        vertical-align: middle;\n",
       "    }\n",
       "\n",
       "    .dataframe tbody tr th {\n",
       "        vertical-align: top;\n",
       "    }\n",
       "\n",
       "    .dataframe thead th {\n",
       "        text-align: right;\n",
       "    }\n",
       "</style>\n",
       "<table border=\"1\" class=\"dataframe\">\n",
       "  <thead>\n",
       "    <tr style=\"text-align: right;\">\n",
       "      <th></th>\n",
       "      <th>device_id</th>\n",
       "      <th>date</th>\n",
       "      <th>duration</th>\n",
       "      <th>building</th>\n",
       "      <th>weekday</th>\n",
       "      <th>hour</th>\n",
       "      <th>day_range</th>\n",
       "      <th>holiday</th>\n",
       "      <th>acb</th>\n",
       "      <th>acc</th>\n",
       "      <th>...</th>\n",
       "      <th>t_uuc</th>\n",
       "      <th>t_vhe</th>\n",
       "      <th>t_vkc</th>\n",
       "      <th>t_vpd</th>\n",
       "      <th>t_wah</th>\n",
       "      <th>t_wph</th>\n",
       "      <th>t_wto</th>\n",
       "      <th>t_wwg</th>\n",
       "      <th>t_zhs</th>\n",
       "      <th>t_zmt</th>\n",
       "    </tr>\n",
       "  </thead>\n",
       "  <tbody>\n",
       "    <tr>\n",
       "      <th>0</th>\n",
       "      <td>000881127a6b89888cda84f6dfab8da801707c47</td>\n",
       "      <td>2020-08-24</td>\n",
       "      <td>117.0</td>\n",
       "      <td>den</td>\n",
       "      <td>1</td>\n",
       "      <td>15</td>\n",
       "      <td>afternoon</td>\n",
       "      <td>False</td>\n",
       "      <td>0.0</td>\n",
       "      <td>0.0</td>\n",
       "      <td>...</td>\n",
       "      <td>0.0</td>\n",
       "      <td>0.0</td>\n",
       "      <td>0.0</td>\n",
       "      <td>0.0</td>\n",
       "      <td>0.0</td>\n",
       "      <td>0.0</td>\n",
       "      <td>0.0</td>\n",
       "      <td>0.0</td>\n",
       "      <td>0.0</td>\n",
       "      <td>0.0</td>\n",
       "    </tr>\n",
       "    <tr>\n",
       "      <th>1</th>\n",
       "      <td>000881127a6b89888cda84f6dfab8da801707c47</td>\n",
       "      <td>2020-08-28</td>\n",
       "      <td>222.0</td>\n",
       "      <td>den</td>\n",
       "      <td>5</td>\n",
       "      <td>9</td>\n",
       "      <td>morning</td>\n",
       "      <td>False</td>\n",
       "      <td>0.0</td>\n",
       "      <td>0.0</td>\n",
       "      <td>...</td>\n",
       "      <td>0.0</td>\n",
       "      <td>0.0</td>\n",
       "      <td>0.0</td>\n",
       "      <td>0.0</td>\n",
       "      <td>0.0</td>\n",
       "      <td>0.0</td>\n",
       "      <td>0.0</td>\n",
       "      <td>0.0</td>\n",
       "      <td>0.0</td>\n",
       "      <td>0.0</td>\n",
       "    </tr>\n",
       "    <tr>\n",
       "      <th>2</th>\n",
       "      <td>000881127a6b89888cda84f6dfab8da801707c47</td>\n",
       "      <td>2020-08-31</td>\n",
       "      <td>224.0</td>\n",
       "      <td>den</td>\n",
       "      <td>1</td>\n",
       "      <td>13</td>\n",
       "      <td>afternoon</td>\n",
       "      <td>False</td>\n",
       "      <td>0.0</td>\n",
       "      <td>0.0</td>\n",
       "      <td>...</td>\n",
       "      <td>0.0</td>\n",
       "      <td>0.0</td>\n",
       "      <td>0.0</td>\n",
       "      <td>0.0</td>\n",
       "      <td>0.0</td>\n",
       "      <td>0.0</td>\n",
       "      <td>0.0</td>\n",
       "      <td>0.0</td>\n",
       "      <td>0.0</td>\n",
       "      <td>0.0</td>\n",
       "    </tr>\n",
       "    <tr>\n",
       "      <th>3</th>\n",
       "      <td>000881127a6b89888cda84f6dfab8da801707c47</td>\n",
       "      <td>2020-09-03</td>\n",
       "      <td>246.0</td>\n",
       "      <td>den</td>\n",
       "      <td>4</td>\n",
       "      <td>14</td>\n",
       "      <td>afternoon</td>\n",
       "      <td>False</td>\n",
       "      <td>0.0</td>\n",
       "      <td>0.0</td>\n",
       "      <td>...</td>\n",
       "      <td>0.0</td>\n",
       "      <td>0.0</td>\n",
       "      <td>0.0</td>\n",
       "      <td>0.0</td>\n",
       "      <td>0.0</td>\n",
       "      <td>0.0</td>\n",
       "      <td>0.0</td>\n",
       "      <td>0.0</td>\n",
       "      <td>0.0</td>\n",
       "      <td>0.0</td>\n",
       "    </tr>\n",
       "    <tr>\n",
       "      <th>4</th>\n",
       "      <td>000881127a6b89888cda84f6dfab8da801707c47</td>\n",
       "      <td>2020-09-04</td>\n",
       "      <td>273.0</td>\n",
       "      <td>den</td>\n",
       "      <td>5</td>\n",
       "      <td>8</td>\n",
       "      <td>morning</td>\n",
       "      <td>False</td>\n",
       "      <td>0.0</td>\n",
       "      <td>0.0</td>\n",
       "      <td>...</td>\n",
       "      <td>0.0</td>\n",
       "      <td>0.0</td>\n",
       "      <td>0.0</td>\n",
       "      <td>0.0</td>\n",
       "      <td>0.0</td>\n",
       "      <td>0.0</td>\n",
       "      <td>0.0</td>\n",
       "      <td>0.0</td>\n",
       "      <td>0.0</td>\n",
       "      <td>0.0</td>\n",
       "    </tr>\n",
       "  </tbody>\n",
       "</table>\n",
       "<p>5 rows × 318 columns</p>\n",
       "</div>"
      ],
      "text/plain": [
       "                                  device_id        date  duration building  \\\n",
       "0  000881127a6b89888cda84f6dfab8da801707c47  2020-08-24     117.0      den   \n",
       "1  000881127a6b89888cda84f6dfab8da801707c47  2020-08-28     222.0      den   \n",
       "2  000881127a6b89888cda84f6dfab8da801707c47  2020-08-31     224.0      den   \n",
       "3  000881127a6b89888cda84f6dfab8da801707c47  2020-09-03     246.0      den   \n",
       "4  000881127a6b89888cda84f6dfab8da801707c47  2020-09-04     273.0      den   \n",
       "\n",
       "   weekday  hour  day_range  holiday  acb  acc  ...  t_uuc  t_vhe  t_vkc  \\\n",
       "0        1    15  afternoon    False  0.0  0.0  ...    0.0    0.0    0.0   \n",
       "1        5     9    morning    False  0.0  0.0  ...    0.0    0.0    0.0   \n",
       "2        1    13  afternoon    False  0.0  0.0  ...    0.0    0.0    0.0   \n",
       "3        4    14  afternoon    False  0.0  0.0  ...    0.0    0.0    0.0   \n",
       "4        5     8    morning    False  0.0  0.0  ...    0.0    0.0    0.0   \n",
       "\n",
       "   t_vpd  t_wah  t_wph  t_wto  t_wwg  t_zhs  t_zmt  \n",
       "0    0.0    0.0    0.0    0.0    0.0    0.0    0.0  \n",
       "1    0.0    0.0    0.0    0.0    0.0    0.0    0.0  \n",
       "2    0.0    0.0    0.0    0.0    0.0    0.0    0.0  \n",
       "3    0.0    0.0    0.0    0.0    0.0    0.0    0.0  \n",
       "4    0.0    0.0    0.0    0.0    0.0    0.0    0.0  \n",
       "\n",
       "[5 rows x 318 columns]"
      ]
     },
     "execution_count": 151,
     "metadata": {},
     "output_type": "execute_result"
    }
   ],
   "source": [
    "df_final.head()"
   ]
  },
  {
   "cell_type": "markdown",
   "metadata": {},
   "source": [
    "#### variable encoding"
   ]
  },
  {
   "cell_type": "code",
   "execution_count": 152,
   "metadata": {},
   "outputs": [],
   "source": [
    "from sklearn import preprocessing\n",
    "\n",
    "oe = preprocessing.OrdinalEncoder()\n",
    "oh = preprocessing.OneHotEncoder()\n",
    "\n",
    "# just label\n",
    "df_final['device_id'] = oe.fit_transform(df_final['device_id'].values.reshape(-1, 1))\n",
    "df_final['date'] = oe.fit_transform(df_final['date'].values.reshape(-1, 1))\n",
    "df_final['building'] = oe.fit_transform(df_final['building'].values.reshape(-1, 1))\n",
    "\n",
    "\n",
    "# # one hot\n",
    "df_final = pd.concat([df_final, pd.get_dummies(df_final.day_range, prefix='dayRange')], axis = 1)\n",
    "df_final = df_final.drop('day_range', axis = 1)\n",
    "df_final = pd.concat([df_final, pd.get_dummies(df_final.hour, prefix='hour')], axis = 1)\n",
    "df_final = df_final.drop('hour', axis = 1)\n",
    "df_final = pd.concat([df_final, pd.get_dummies(df_final.weekday, prefix='weekday')], axis = 1)\n",
    "df_final = df_final.drop('weekday', axis = 1)"
   ]
  },
  {
   "cell_type": "code",
   "execution_count": 153,
   "metadata": {},
   "outputs": [
    {
     "data": {
      "text/plain": [
       "(82931, 352)"
      ]
     },
     "execution_count": 153,
     "metadata": {},
     "output_type": "execute_result"
    }
   ],
   "source": [
    "df_final.shape"
   ]
  },
  {
   "cell_type": "code",
   "execution_count": 154,
   "metadata": {},
   "outputs": [
    {
     "name": "stdout",
     "output_type": "stream",
     "text": [
      "352\n",
      "351\n",
      "352\n",
      "(82931, 352)\n"
     ]
    }
   ],
   "source": [
    "# def move_col_to_end(df, col_name):\n",
    "    \n",
    "#     cols = list(df.columns.values) #Make a list of all of the columns in the df\n",
    "#     print(len(cols))\n",
    "#     cols.pop(cols.index(col_name)) #Remove b from list\n",
    "#     print(len(cols))\n",
    "#     print(len(cols + [col_name]))\n",
    "#     df = df[cols+[col_name]] #Create new dataframe with columns in the order you want\n",
    "#     print(df.shape)\n",
    "    \n",
    "#     return df\n",
    "\n",
    "# df_final = move_col_to_end(df_final, 'building')\n",
    "col_name = 'building'\n",
    "cols = list(df_final.columns.values) #Make a list of all of the columns in the df\n",
    "print(len(cols))\n",
    "cols.pop(cols.index(col_name)) #Remove b from list\n",
    "print(len(cols))\n",
    "print(len(cols + [col_name]))\n",
    "\n",
    "df_final = df_final[cols+[col_name]] #Create new dataframe with columns in the order you want\n",
    "print(df_final.shape)"
   ]
  },
  {
   "cell_type": "markdown",
   "metadata": {},
   "source": [
    "#### Train test split based on time range\n",
    "\n",
    "25% as test set"
   ]
  },
  {
   "cell_type": "code",
   "execution_count": 155,
   "metadata": {},
   "outputs": [
    {
     "name": "stdout",
     "output_type": "stream",
     "text": [
      "(60993, 352) (21938, 352)\n"
     ]
    }
   ],
   "source": [
    "def split_train_test(df_final, ratio=0.25):\n",
    "\n",
    "    dates = sorted(list(df_final['date'].unique()))\n",
    "    training_dates = dates[0: int(len(dates)*0.75)]\n",
    "    test_dates = dates[int(len(dates)*0.75):]\n",
    "\n",
    "    df_train = df_final[df_final['date'].isin(training_dates)]\n",
    "    df_test = df_final[df_final['date'].isin(test_dates)]\n",
    "\n",
    "    print(df_train.shape, df_test.shape)\n",
    "    \n",
    "    return df_train, df_test\n",
    "\n",
    "df_train, df_test = split_train_test(df_final)"
   ]
  },
  {
   "cell_type": "markdown",
   "metadata": {},
   "source": [
    "#### Train set negative sampling"
   ]
  },
  {
   "cell_type": "code",
   "execution_count": null,
   "metadata": {},
   "outputs": [],
   "source": [
    "import random\n",
    "\n",
    "random.seed(21)\n",
    "building_set = list(df_final.building.unique())\n",
    "\n",
    "def generate_neg_sample(df, building_set, neg_sample = 1):\n",
    "\n",
    "    result = [df]\n",
    "\n",
    "    for i in range(neg_sample):\n",
    "        df_neg = df.copy()\n",
    "        df_neg['building'] = df_neg.apply(lambda row: random.choice(building_set), axis = 1)\n",
    "        df_neg['target'] = 0\n",
    "        result.append(df_neg)\n",
    "    \n",
    "    return pd.concat(result, axis = 0)\n",
    "\n",
    "df_train = generate_neg_sample(df_train, building_set)\n",
    "print(df_train.shape)\n",
    "\n",
    "df_test = generate_neg_sample(df_test, building_set, neg_sample = 1)"
   ]
  },
  {
   "cell_type": "markdown",
   "metadata": {},
   "source": [
    "#### Train a model"
   ]
  },
  {
   "cell_type": "code",
   "execution_count": null,
   "metadata": {},
   "outputs": [],
   "source": [
    "from sklearn.ensemble import RandomForestClassifier\n",
    "from sklearn.naive_bayes import GaussianNB\n",
    "from sklearn.metrics import roc_auc_score, accuracy_score, precision_score, recall_score, f1_score, plot_confusion_matrix\n",
    "\n",
    "X_train, y_train = df_train.iloc[:, 0:-1].values, df_train.iloc[:, -1].values\n",
    "X_test, y_test = df_test.iloc[:, 0:-1].values, df_test.iloc[:, -1].values\n",
    "\n",
    "print(X_train.shape, y_train.shape, X_test.shape, y_test.shape)\n",
    "\n",
    "clf=RandomForestClassifier(max_depth = 200, n_estimators=400, random_state = 42)\n",
    "clf.fit(X_train, y_train)\n",
    "\n",
    "# clf = GaussianNB()\n",
    "# clf.fit(X_train, y_train)\n",
    "y_train_pred = clf.predict_proba(X_train)\n",
    "y_test_pred = clf.predict_proba(X_test)\n",
    "\n",
    "# def print_report(y_actual, y_pred, thresh = 0.5):\n",
    "#  #     auc = roc_auc_score(y_actual, y_pred)\n",
    "#     accuracy = accuracy_score(y_actual, (y_pred > thresh))\n",
    "#     recall = recall_score(y_actual, (y_pred > thresh), average = 'micro')\n",
    "#     precision = precision_score(y_actual, (y_pred > thresh), average = 'micro')\n",
    "#     f1 = f1_score(y_actual, (y_pred > thresh), average = 'micro')\n",
    "\n",
    "# #     print('AUC:%.3f'%auc)\n",
    "#     print('accuracy:%.3f'%accuracy)\n",
    "#     print('recall:%.3f'%recall)\n",
    "#     print('precision:%.3f'%precision)\n",
    "#     print(\"f1-score:%.3f\"%f1)\n",
    "\n",
    "#     return accuracy, recall, precision, f1\n",
    "\n",
    "# auc, accuracy, recall, precision = print_report(y_test, y_test_pred)\n",
    "\n",
    "def top_k_accu(y_test, y_test_pred, k = 3):\n",
    "    sorted_pred = np.argsort(y_test_pred, axis=1, kind='mergesort')[:, ::-1]\n",
    "    hits = (y_test == sorted_pred[:,:k].T).any(axis = 0)\n",
    "    return np.sum(hits)/y_test.shape[0] \n",
    "\n",
    "print(\"accu@1: \", top_k_accu(y_test, y_test_pred, k=1))\n",
    "print(\"accu@3: \", top_k_accu(y_test, y_test_pred, k=3))\n",
    "print(\"accu@5: \", top_k_accu(y_test, y_test_pred, k=5))\n",
    "print(\"accu@10: \", top_k_accu(y_test, y_test_pred, k=10))"
   ]
  },
  {
   "cell_type": "markdown",
   "metadata": {},
   "source": [
    "#### Top K classifier"
   ]
  },
  {
   "cell_type": "code",
   "execution_count": null,
   "metadata": {},
   "outputs": [],
   "source": [
    "df_nb = df.copy()\n",
    "df_nb['building'] = oe.fit_transform(df_nb['building'].values.reshape(-1, 1))\n",
    "df_nb['building'] = df_nb['building'].astype('int32')\n",
    "df_nb['time_slot'] = df_nb.apply(lambda row: str(row['weekday'])+ \"@\" + row['day_range'], axis = 1)\n",
    "df_train_nb, df_test_nb = split_train_test(df_nb)\n",
    "\n",
    "df_train_building = df_train_nb.groupby('building').agg(duration = ('duration', 'sum'))\n",
    "df_train_building = df_train_building / df_train_building.sum()"
   ]
  },
  {
   "cell_type": "code",
   "execution_count": null,
   "metadata": {},
   "outputs": [],
   "source": [
    "# generate prob\n",
    "df_prob_nb = df_train_nb.groupby(['device_id', 'time_slot', 'building']).agg(duration = ('duration', 'sum'))\n",
    "df_prob_nb = df_prob_nb.unstack(fill_value=0)\n",
    "df_prob_nb.columns = df_prob_nb.columns.droplevel(level = 0)\n",
    "df_prob_nb.columns.name = None\n",
    "\n",
    "columns = list(df_prob_nb.columns.values)\n",
    "df_prob_nb = df_prob_nb.div(df_prob_nb.sum(axis=1), axis=0)\n",
    "df_prob_nb = df_prob_nb.reset_index()\n",
    "\n",
    "# prob matrix generation\n",
    "prob_matrix = df_prob_nb[columns].values\n",
    "b_prob_matrix = df_train_building.values.T.flatten()\n",
    "df_prob_nb[columns] = prob_matrix* b_prob_matrix.flatten()"
   ]
  },
  {
   "cell_type": "code",
   "execution_count": null,
   "metadata": {},
   "outputs": [],
   "source": [
    "result = pd.merge(df_test_nb, df_prob_nb, how = 'left', left_on= [\"device_id\", \"time_slot\"],  right_on = [\"device_id\", \"time_slot\"])\n",
    "y_true = df_test_nb['building'].values\n",
    "y_score = result[columns].fillna(0).values\n",
    "\n",
    "print(\"accu@1: \", top_k_accu(y_true, y_score, k=1))\n",
    "print(\"accu@3: \", top_k_accu(y_true, y_score, k=3))\n",
    "print(\"accu@5: \", top_k_accu(y_true, y_score, k=5))\n",
    "print(\"accu@10: \", top_k_accu(y_true, y_score, k=10))"
   ]
  },
  {
   "cell_type": "code",
   "execution_count": null,
   "metadata": {},
   "outputs": [],
   "source": [
    "y_true = df_test_nb['building'].values\n",
    "y_score = result[columns].fillna(0).values"
   ]
  },
  {
   "cell_type": "code",
   "execution_count": null,
   "metadata": {},
   "outputs": [],
   "source": [
    "print(\"accu@1: \", top_k_accu(y_true, y_score, k=1))\n",
    "print(\"accu@3: \", top_k_accu(y_true, y_score, k=3))\n",
    "print(\"accu@5: \", top_k_accu(y_true, y_score, k=5))\n",
    "print(\"accu@10: \", top_k_accu(y_true, y_score, k=10))"
   ]
  },
  {
   "cell_type": "markdown",
   "metadata": {},
   "source": [
    "#### Naive Bayes"
   ]
  },
  {
   "cell_type": "code",
   "execution_count": null,
   "metadata": {},
   "outputs": [],
   "source": [
    "df_nb = df.copy()\n",
    "df_nb['building'] = oe.fit_transform(df_nb['building'].values.reshape(-1, 1))\n",
    "df_nb['building'] = df_nb['building'].astype('int32')\n",
    "df_nb['user_time_slot'] = df_nb.apply(lambda row: str(row['device_id']) + str(row['weekday'])+ \"@\" + row['day_range'], axis = 1)\n",
    "df_train_nb, df_test_nb = split_train_test(df_nb)\n",
    "\n",
    "df_train_building = df_train_nb.groupby('building').agg(duration = ('duration', 'sum'))\n",
    "df_train_building = df_train_building / df_train_building.sum()"
   ]
  },
  {
   "cell_type": "code",
   "execution_count": null,
   "metadata": {},
   "outputs": [],
   "source": [
    "# generate prob\n",
    "df_prob_nb = df_train_nb.groupby(['building', 'user_time_slot']).agg(duration = ('duration', 'sum'))\n",
    "df_prob_nb = df_prob_nb.unstack(fill_value=0)\n",
    "df_prob_nb.columns = df_prob_nb.columns.droplevel(level = 0)\n",
    "df_prob_nb.columns.name = None\n",
    "df_prob_nb = df_prob_nb.div(df_prob_nb.sum(axis=1), axis=0)\n",
    "df_prob_nb = df_prob_nb.T\n",
    "df_prob_nb.columns.name = None\n",
    "\n",
    "columns = list(df_prob_nb.columns.values)\n",
    "df_prob_nb = df_prob_nb.reset_index()\n",
    "\n",
    "# # prob matrix generation\n",
    "prob_matrix = df_prob_nb[columns].values\n",
    "b_prob_matrix = df_train_building.values.T.flatten()\n",
    "df_prob_nb[columns] = prob_matrix* b_prob_matrix.flatten()"
   ]
  },
  {
   "cell_type": "code",
   "execution_count": null,
   "metadata": {},
   "outputs": [],
   "source": [
    "df_prob_nb.head()"
   ]
  },
  {
   "cell_type": "code",
   "execution_count": null,
   "metadata": {},
   "outputs": [],
   "source": [
    "result = pd.merge(df_test_nb, df_prob_nb, how = 'left', left_on= [\"user_time_slot\"],  right_on = [\"index\"])\n",
    "y_true = df_test_nb['building'].values\n",
    "y_score = result[columns].fillna(0).values\n",
    "\n",
    "print(\"accu@1: \", top_k_accu(y_true, y_score, k=1))\n",
    "print(\"accu@3: \", top_k_accu(y_true, y_score, k=3))\n",
    "print(\"accu@5: \", top_k_accu(y_true, y_score, k=5))\n",
    "print(\"accu@10: \", top_k_accu(y_true, y_score, k=10))"
   ]
  },
  {
   "cell_type": "markdown",
   "metadata": {},
   "source": [
    "## co-occurrence analysis"
   ]
  },
  {
   "cell_type": "code",
   "execution_count": null,
   "metadata": {},
   "outputs": [],
   "source": [
    "# group data\n",
    "grouped = df.groupby(['date', 'building'], as_index = False)\n",
    "print(grouped.ngroups)"
   ]
  },
  {
   "cell_type": "code",
   "execution_count": null,
   "metadata": {
    "scrolled": true
   },
   "outputs": [],
   "source": [
    "# qucik version\n",
    "\n",
    "co_dict = dict()\n",
    "\n",
    "def func(row, co_dict):\n",
    "        \n",
    "    key = (row.name[0], row.name[1]) if row.name[0] <= row.name[1] else (row.name[1], row.name[0])\n",
    "    \n",
    "    if key not in co_dict:\n",
    "        co_dict[key] = row['co_time']\n",
    "    else:\n",
    "        co_dict[key] = co_dict[key] + row['co_time']\n",
    "        \n",
    "        \n",
    "\n",
    "for idx, (name, group) in enumerate(grouped):\n",
    "    \n",
    "    print(idx, name, group.shape)\n",
    "\n",
    "    group.sort_values(by=['start_time', 'end_time'], inplace=True)  # sort by start time\n",
    "\n",
    "    #print(group[group['device_id'] == '538f2a1dda1109f810b9fbd975c7e34f6dba654f'][['start_time', 'end_time']])\n",
    "\n",
    "    if(group.shape[0] > 1500):\n",
    "\n",
    "        result = []\n",
    "\n",
    "        group = group.reset_index()\n",
    "\n",
    "        result.append(group['device_id'])\n",
    "        interval = group['end_time'] - group['start_time']\n",
    "\n",
    "        for idx, id in enumerate(group['device_id'].values):\n",
    "\n",
    "            a = (group.iloc[idx]['end_time'] - group['start_time'])\n",
    "            a = pd.concat([a, interval], axis=1).min(axis=1)\n",
    "            a[a < timedelta(minutes = 0)] =  pd.Timedelta('nan')\n",
    "            a.name = id\n",
    "            result.append(a)\n",
    "\n",
    "        result = pd.concat(result, axis = 1)\n",
    "\n",
    "        result = result.set_index('device_id')\n",
    "\n",
    "        result = result.mask(np.triu(np.ones(result.shape, dtype = np.bool_)))\n",
    "\n",
    "        result = result.stack().to_frame()\n",
    "\n",
    "        result.columns = ['co_time']\n",
    "\n",
    "        a = result.apply(lambda row: func(row, co_dict), axis =1)\n",
    "\n",
    "    else:\n",
    "        \n",
    "        device_id = group['device_id'].values        \n",
    "        start_time = group['start_time'].values\n",
    "        end_time = group['end_time'].values\n",
    "\n",
    "        for idx1 in range(len(device_id)):\n",
    "            for idx2 in range(idx1+1, len(device_id)):\n",
    "                overlap = end_time[idx1] - start_time[idx2]\n",
    "                overlap = overlap.astype('timedelta64[m]')\n",
    "                if overlap >= np.timedelta64(0, 'm'):\n",
    "                    key = (device_id[idx1], device_id[idx2]) if device_id[idx1] <= device_id[idx2] else (device_id[idx2], device_id[idx1])\n",
    "                    overlap_time = min(end_time[idx1] - start_time[idx2], end_time[idx2] - start_time[idx2])\n",
    "                    overlap_time = overlap_time.astype('timedelta64[m]')\n",
    "                    if key not in co_dict:\n",
    "                        co_dict[key] = overlap_time\n",
    "                    else:\n",
    "                        co_dict[key] = co_dict.get(key) +overlap_time\n",
    "                else:\n",
    "                    continue"
   ]
  },
  {
   "cell_type": "code",
   "execution_count": null,
   "metadata": {},
   "outputs": [],
   "source": [
    "#co_dict = read_pickle(\"./data/co_dict_dense.pkl\")\n",
    "    \n",
    "co_dict_json = {}\n",
    "\n",
    "for k, v in co_dict.items():\n",
    "    \n",
    "    key = '@'.join([k[0],k[1]])\n",
    "    co_dict_json[key] = (v/np.timedelta64(1, 's'))/60\n",
    "    \n",
    "\n",
    "write_pickle( co_dict, \"./data/co_dict_dense_m60.pkl\")\n",
    "write_json(co_dict_json, \"./data/co_dict_dense_m60.json\")"
   ]
  },
  {
   "cell_type": "code",
   "execution_count": null,
   "metadata": {},
   "outputs": [],
   "source": [
    "print(len(co_dict.items()))\n",
    "\n",
    "nodes = set()\n",
    "edges = []\n",
    "weights = []\n",
    "\n",
    "# nodes\n",
    "for k,v in co_dict.items():\n",
    "    nodes.add(k[0])\n",
    "    nodes.add(k[1])\n",
    "    \n",
    "# edge and weights   \n",
    "for k,v in co_dict.items():\n",
    "    edges.append(k)\n",
    "    weights.append((v/np.timedelta64(1, 's'))/60)\n",
    "    \n",
    "print(len(nodes), len(edges), len(weights))\n",
    "\n",
    "node2id_hash = dict()\n",
    "id2node_hash = dict()\n",
    "\n",
    "for idx, node  in enumerate(nodes):\n",
    "    node2id_hash[node] = idx\n",
    "    id2node_hash[idx] = node"
   ]
  },
  {
   "cell_type": "code",
   "execution_count": null,
   "metadata": {},
   "outputs": [],
   "source": [
    "import networkit as nk\n",
    "graph = nk.graph.Graph(len(nodes), weighted = True)\n",
    "\n",
    "for edge, weight in zip(edges, weights):\n",
    "\n",
    "    graph.addEdge(node2id_hash[edge[0]], node2id_hash[edge[1]], weight)\n",
    "    \n",
    "print(graph.numberOfNodes(), graph.numberOfEdges())\n",
    "\n",
    "cc = nk.components.ConnectedComponents(graph)\n",
    "cc.run()\n",
    "print(\"number of components \", cc.numberOfComponents())\n",
    "\n",
    "print(cc.getComponentSizes())\n",
    "\n",
    "dd = sorted(nk.centrality.DegreeCentrality(graph).run().scores(), reverse=True)\n",
    "plt.xscale(\"log\")\n",
    "plt.xlabel(\"degree\")\n",
    "plt.yscale(\"log\")\n",
    "plt.ylabel(\"number of nodes\")\n",
    "plt.plot(dd)\n",
    "plt.show()"
   ]
  },
  {
   "cell_type": "code",
   "execution_count": null,
   "metadata": {
    "scrolled": true
   },
   "outputs": [],
   "source": [
    "communities = nk.community.detectCommunities(graph, algo=nk.community.PLM(graph, True))"
   ]
  },
  {
   "cell_type": "code",
   "execution_count": null,
   "metadata": {},
   "outputs": [],
   "source": [
    "nk.community.Modularity().getQuality(communities, graph)"
   ]
  },
  {
   "cell_type": "code",
   "execution_count": null,
   "metadata": {},
   "outputs": [],
   "source": [
    "communities.subsetSizeMap()"
   ]
  },
  {
   "cell_type": "code",
   "execution_count": null,
   "metadata": {},
   "outputs": [],
   "source": [
    "communities.getMembers(0)"
   ]
  },
  {
   "cell_type": "code",
   "execution_count": null,
   "metadata": {},
   "outputs": [],
   "source": [
    "print(\"{0} elements assigned to {1} subsets\".format(communities.numberOfElements(),\n",
    "                                                    communities.numberOfSubsets()))"
   ]
  },
  {
   "cell_type": "code",
   "execution_count": null,
   "metadata": {},
   "outputs": [],
   "source": [
    "sizes = communities.subsetSizes()\n",
    "sizes.sort(reverse=True)\n",
    "ax1 = plt.subplot(2,1,1)\n",
    "ax1.set_ylabel(\"size\")\n",
    "ax1.plot(sizes)\n",
    "\n",
    "ax2 = plt.subplot(2,1,2)\n",
    "ax2.set_xscale(\"log\")\n",
    "ax2.set_yscale(\"log\")\n",
    "ax2.set_ylabel(\"size\")\n",
    "ax2.plot(sizes)\n",
    "plt.show()"
   ]
  },
  {
   "cell_type": "code",
   "execution_count": null,
   "metadata": {},
   "outputs": [],
   "source": [
    "ec = nk.centrality.EigenvectorCentrality(graph)\n",
    "ec.run()\n",
    "ec.ranking()[:10] # the 10 most central nodes"
   ]
  },
  {
   "cell_type": "code",
   "execution_count": null,
   "metadata": {},
   "outputs": [],
   "source": [
    "# PageRank\n",
    "pr = nk.centrality.PageRank(graph, 1e-6)\n",
    "pr.run()\n",
    "pr.ranking()[:10] # the 10 most central nodes"
   ]
  },
  {
   "cell_type": "code",
   "execution_count": null,
   "metadata": {},
   "outputs": [],
   "source": [
    "# save to graphml\n",
    "from igraph import *\n",
    "\n",
    "g = Graph()\n",
    "\n",
    "for node in nodes:\n",
    "    g.add_vertices(node)\n",
    "    \n",
    "g.add_edges(edges)\n",
    "\n",
    "g.es['weights'] = weights\n",
    "\n",
    "print(summary(g))\n",
    "\n",
    "g.save(\"g_dense.graphml\", format=\"graphml\")"
   ]
  },
  {
   "cell_type": "code",
   "execution_count": null,
   "metadata": {},
   "outputs": [],
   "source": [
    "import networkx as nx\n",
    "from scipy import sparse\n",
    "\n",
    "co_matrix = sparse.load_npz(\"./data/co_matrix.npz\")"
   ]
  },
  {
   "cell_type": "code",
   "execution_count": null,
   "metadata": {},
   "outputs": [],
   "source": [
    "G = nx.from_scipy_sparse_matrix(co_matrix)"
   ]
  },
  {
   "cell_type": "code",
   "execution_count": null,
   "metadata": {},
   "outputs": [],
   "source": [
    "print(G.number_of_nodes())\n",
    "print(G.number_of_edges())"
   ]
  },
  {
   "cell_type": "code",
   "execution_count": null,
   "metadata": {},
   "outputs": [],
   "source": [
    "def generate_nodes_edges(co_dict):\n",
    "    nodes = set()\n",
    "    edges = []\n",
    "    weights = []\n",
    "    for k, v in co_dict.items():\n",
    "        nodes.add(k[0])\n",
    "        nodes.add(k[1])\n",
    "        edges.append(k)\n",
    "        weights.append((v / np.timedelta64(1, 's')) / 60)\n",
    "\n",
    "    print(len(nodes), len(edges), len(weights))\n",
    "    return nodes, edges, weights\n",
    "\n",
    "def generate_node_hash(nodes):\n",
    "    node2id_hash = dict()\n",
    "    id2node_hash = dict()\n",
    "\n",
    "    for idx, node  in enumerate(nodes):\n",
    "        node2id_hash[node] = idx\n",
    "        id2node_hash[idx] = node\n",
    "\n",
    "    return node2id_hash, id2node_hash\n",
    "\n",
    "def generate_graph(nodes, edges, weights, package = 'networkx'):\n",
    "\n",
    "    if package == 'networkx':\n",
    "\n",
    "        G = nx.Graph()\n",
    "\n",
    "        node2id_hash, id2node_hash = generate_node_hash(nodes)\n",
    "\n",
    "        for node in nodes:\n",
    "            G.add_node(node2id_hash[node])\n",
    "\n",
    "        for edge, weight in zip(edges, weights):\n",
    "            G.add_edge(node2id_hash[edge[0]], node2id_hash[edge[1]], weight=weight)\n",
    "\n",
    "        print(G.number_of_nodes(), G.number_of_edges())\n",
    "\n",
    "        return G\n",
    "    else:\n",
    "        return None\n",
    "\n",
    "def update_nodes_edges(node_set, nodes, edges, weights):\n",
    "\n",
    "    # node hash\n",
    "    node2id_hash, id2node_hash = generate_node_hash(nodes)\n",
    "\n",
    "    # remove non_conected nodes\n",
    "    node_set = set(node_set)\n",
    "    print(node_set)\n",
    "    sub_nodes = []\n",
    "    for node in nodes:\n",
    "        if node2id_hash[node] not in node_set:\n",
    "            sub_nodes.append(node)\n",
    "\n",
    "    sub_edges = []\n",
    "    sub_weights = []\n",
    "    for e, w in zip(edges, weights):\n",
    "        if (node2id_hash[e[0]] not in node_set) and (node2id_hash[e[1]] not in node_set):\n",
    "            sub_edges.append(e)\n",
    "            sub_weights.append(weights)\n",
    "\n",
    "    return sub_nodes, sub_edges, sub_weights"
   ]
  },
  {
   "cell_type": "code",
   "execution_count": null,
   "metadata": {},
   "outputs": [],
   "source": [
    "G = generate_graph(nodes, edges, weights)\n",
    "\n",
    "# co_matrix = sparse.load_npz(\"./data/co_matrix.npz\")\n",
    "# G = nx.from_scipy_sparse_matrix(co_matrix)\n",
    "\n",
    "non_connected_nodes = []\n",
    "for idx, c in enumerate(sorted(nx.connected_components(G), key=len, reverse=True)):\n",
    "    if(idx != 0):\n",
    "        non_connected_nodes.extend(list(c))\n",
    "print(len(non_connected_nodes))\n",
    "\n",
    "# update graph\n",
    "print(\"Updating graph...\")\n",
    "sub_nodes, sub_edges, sub_weights = update_nodes_edges(non_connected_nodes, nodes, edges, weights)\n",
    "node2id_hash_sub, id2node_hash_sub = generate_node_hash(sub_nodes)\n",
    "\n",
    "sub_G = generate_graph(sub_nodes, sub_edges, sub_weights)"
   ]
  },
  {
   "cell_type": "code",
   "execution_count": null,
   "metadata": {},
   "outputs": [],
   "source": [
    "nx.write_gml(G, \"data/g_dense.gml\")"
   ]
  },
  {
   "cell_type": "code",
   "execution_count": null,
   "metadata": {},
   "outputs": [],
   "source": [
    "# save to spicy sparse matrix\n",
    "\n",
    "import networkx as nx\n",
    "from scipy import sparse\n",
    "\n",
    "G = nx.Graph()\n",
    "\n",
    "for node in nodes:\n",
    "    G.add_node(node)\n",
    "    \n",
    "for edge, weight in zip(edges, weights):\n",
    "    \n",
    "    G.add_edge(edge[0],edge[1],weight = weight)\n",
    "\n",
    "print(G.number_of_nodes())\n",
    "print(G.number_of_edges())\n",
    "\n",
    "co_matrix = nx.to_scipy_sparse_matrix(G)\n",
    "\n",
    "sparse.save_npz(\"./data/co_matrix.npz\", co_matrix)\n",
    "co_matrix = sparse.load_npz(\"./data/co_matrix.npz\")"
   ]
  },
  {
   "cell_type": "markdown",
   "metadata": {},
   "source": [
    "## Hot spot analysis"
   ]
  },
  {
   "cell_type": "code",
   "execution_count": 15,
   "metadata": {},
   "outputs": [
    {
     "data": {
      "text/html": [
       "<div>\n",
       "<style scoped>\n",
       "    .dataframe tbody tr th:only-of-type {\n",
       "        vertical-align: middle;\n",
       "    }\n",
       "\n",
       "    .dataframe tbody tr th {\n",
       "        vertical-align: top;\n",
       "    }\n",
       "\n",
       "    .dataframe thead th {\n",
       "        text-align: right;\n",
       "    }\n",
       "</style>\n",
       "<table border=\"1\" class=\"dataframe\">\n",
       "  <thead>\n",
       "    <tr style=\"text-align: right;\">\n",
       "      <th></th>\n",
       "      <th>device_id</th>\n",
       "      <th>date</th>\n",
       "      <th>duration</th>\n",
       "      <th>building</th>\n",
       "      <th>weekday</th>\n",
       "      <th>start_time</th>\n",
       "      <th>end_time</th>\n",
       "    </tr>\n",
       "  </thead>\n",
       "  <tbody>\n",
       "    <tr>\n",
       "      <th>0</th>\n",
       "      <td>00014b5eb675babe57e4da111eb66704a6210ef1</td>\n",
       "      <td>2020-09-02</td>\n",
       "      <td>0 days 00:01:00</td>\n",
       "      <td>dwe-gate6</td>\n",
       "      <td>3</td>\n",
       "      <td>2020-09-02 12:08:00</td>\n",
       "      <td>2020-09-02 12:09:00</td>\n",
       "    </tr>\n",
       "    <tr>\n",
       "      <th>1</th>\n",
       "      <td>00014b5eb675babe57e4da111eb66704a6210ef1</td>\n",
       "      <td>2020-09-02</td>\n",
       "      <td>0 days 00:01:00</td>\n",
       "      <td>dwe-gate6</td>\n",
       "      <td>3</td>\n",
       "      <td>2020-09-02 12:33:00</td>\n",
       "      <td>2020-09-02 12:34:00</td>\n",
       "    </tr>\n",
       "    <tr>\n",
       "      <th>2</th>\n",
       "      <td>00014b5eb675babe57e4da111eb66704a6210ef1</td>\n",
       "      <td>2020-09-02</td>\n",
       "      <td>0 days 00:00:00</td>\n",
       "      <td>eeb</td>\n",
       "      <td>3</td>\n",
       "      <td>2020-09-02 12:12:00</td>\n",
       "      <td>2020-09-02 12:12:00</td>\n",
       "    </tr>\n",
       "    <tr>\n",
       "      <th>3</th>\n",
       "      <td>00014b5eb675babe57e4da111eb66704a6210ef1</td>\n",
       "      <td>2020-09-10</td>\n",
       "      <td>0 days 00:03:00</td>\n",
       "      <td>gee-gate8</td>\n",
       "      <td>4</td>\n",
       "      <td>2020-09-10 11:24:00</td>\n",
       "      <td>2020-09-10 11:27:00</td>\n",
       "    </tr>\n",
       "    <tr>\n",
       "      <th>4</th>\n",
       "      <td>00014b5eb675babe57e4da111eb66704a6210ef1</td>\n",
       "      <td>2020-09-02</td>\n",
       "      <td>0 days 00:01:00</td>\n",
       "      <td>ger</td>\n",
       "      <td>3</td>\n",
       "      <td>2020-09-02 12:12:00</td>\n",
       "      <td>2020-09-02 12:13:00</td>\n",
       "    </tr>\n",
       "  </tbody>\n",
       "</table>\n",
       "</div>"
      ],
      "text/plain": [
       "                                  device_id        date        duration  \\\n",
       "0  00014b5eb675babe57e4da111eb66704a6210ef1  2020-09-02 0 days 00:01:00   \n",
       "1  00014b5eb675babe57e4da111eb66704a6210ef1  2020-09-02 0 days 00:01:00   \n",
       "2  00014b5eb675babe57e4da111eb66704a6210ef1  2020-09-02 0 days 00:00:00   \n",
       "3  00014b5eb675babe57e4da111eb66704a6210ef1  2020-09-10 0 days 00:03:00   \n",
       "4  00014b5eb675babe57e4da111eb66704a6210ef1  2020-09-02 0 days 00:01:00   \n",
       "\n",
       "    building  weekday          start_time            end_time  \n",
       "0  dwe-gate6        3 2020-09-02 12:08:00 2020-09-02 12:09:00  \n",
       "1  dwe-gate6        3 2020-09-02 12:33:00 2020-09-02 12:34:00  \n",
       "2        eeb        3 2020-09-02 12:12:00 2020-09-02 12:12:00  \n",
       "3  gee-gate8        4 2020-09-10 11:24:00 2020-09-10 11:27:00  \n",
       "4        ger        3 2020-09-02 12:12:00 2020-09-02 12:13:00  "
      ]
     },
     "execution_count": 15,
     "metadata": {},
     "output_type": "execute_result"
    }
   ],
   "source": [
    "df.head()"
   ]
  },
  {
   "cell_type": "code",
   "execution_count": 16,
   "metadata": {},
   "outputs": [
    {
     "name": "stdout",
     "output_type": "stream",
     "text": [
      "761111\n",
      "(761111, 6)\n",
      "6825\n"
     ]
    }
   ],
   "source": [
    "# group data\n",
    "g = df.groupby(['device_id', 'date', 'building'], as_index = False)\n",
    "print(g.ngroups)\n",
    "df_agg = g.agg(duration = ('duration', 'sum'),begin = ('start_time', 'min'), end = ('end_time', 'max'))\n",
    "print(df_agg.shape)\n",
    "print(df_agg['device_id'].nunique())"
   ]
  },
  {
   "cell_type": "code",
   "execution_count": null,
   "metadata": {},
   "outputs": [],
   "source": [
    "df_agg.to_csv('./data/device_data_agg.csv')"
   ]
  },
  {
   "cell_type": "code",
   "execution_count": 18,
   "metadata": {},
   "outputs": [
    {
     "name": "stdout",
     "output_type": "stream",
     "text": [
      "0.5849212532731757\n",
      "(6168, 2)\n"
     ]
    }
   ],
   "source": [
    "pc = df_agg['duration']/(df_agg['end'] - df_agg['begin'])\n",
    "\n",
    "# filter data\n",
    "print(df_agg[df_agg['duration'] <= timedelta(minutes = 2)].shape[0]/df_agg.shape[0])\n",
    "df_agg_fl = df_agg[df_agg['duration'] >= timedelta(minutes = 20)]\n",
    "\n",
    "# merge data\n",
    "b = df_agg_fl.groupby(['device_id'], as_index = False).agg(building = ('building', lambda x: list(x.values)))\n",
    "print(b.shape)"
   ]
  },
  {
   "cell_type": "code",
   "execution_count": 19,
   "metadata": {},
   "outputs": [
    {
     "data": {
      "text/plain": [
       "(113903, 6)"
      ]
     },
     "execution_count": 19,
     "metadata": {},
     "output_type": "execute_result"
    }
   ],
   "source": [
    "df_agg_fl.shape"
   ]
  },
  {
   "cell_type": "code",
   "execution_count": 20,
   "metadata": {},
   "outputs": [],
   "source": [
    "from gensim import corpora\n",
    "from collections import defaultdict\n",
    "from gensim import models\n",
    "import pprint\n",
    "from sklearn.manifold import TSNE"
   ]
  },
  {
   "cell_type": "code",
   "execution_count": 21,
   "metadata": {},
   "outputs": [
    {
     "name": "stdout",
     "output_type": "stream",
     "text": [
      "6168\n",
      "Dictionary(155 unique tokens: ['den', 'event', 'mcc', 'cdf', 'dcc']...)\n"
     ]
    }
   ],
   "source": [
    "frequency = defaultdict(int)\n",
    "\n",
    "data = list(b.building.values)\n",
    "\n",
    "for device in data:\n",
    "    for bld in device:\n",
    "        frequency[bld] += 1\n",
    "\n",
    "# Only keep words that appear more than once\n",
    "processed_data = [[bld for bld in device] for device in data]\n",
    "print(len(processed_data))\n",
    "\n",
    "dictionary = corpora.Dictionary(processed_data)\n",
    "print(dictionary)\n",
    "\n",
    "# bag of words\n",
    "bow_data = [dictionary.doc2bow(device) for device in processed_data]"
   ]
  },
  {
   "cell_type": "code",
   "execution_count": 22,
   "metadata": {},
   "outputs": [
    {
     "name": "stdout",
     "output_type": "stream",
     "text": [
      "n_topics: 10  perplexity  -3.416399402123248 | Coherence Score:  0.597958384972584\n"
     ]
    }
   ],
   "source": [
    "for i in [10]:\n",
    "\n",
    "    lda = models.LdaModel(bow_data, id2word= dictionary, num_topics=i, random_state = 21)\n",
    "    coherence_model_lda = models.CoherenceModel(model=lda, texts= data, dictionary=dictionary, coherence='c_v')\n",
    "    coherence_lda = coherence_model_lda.get_coherence()\n",
    "    print( 'n_topics:', i,  ' perplexity ', lda.log_perplexity(bow_data),'| Coherence Score: ', coherence_lda)"
   ]
  },
  {
   "cell_type": "code",
   "execution_count": 23,
   "metadata": {},
   "outputs": [
    {
     "name": "stdout",
     "output_type": "stream",
     "text": [
      "[(0,\n",
      "  '0.102*\"prb\" + 0.090*\"hnb\" + 0.090*\"vhe\" + 0.080*\"wph\" + 0.073*\"thh\" + '\n",
      "  '0.072*\"psd\" + 0.061*\"irc\" + 0.057*\"vkc\" + 0.056*\"zmt\" + 0.030*\"rhm\"'),\n",
      " (1,\n",
      "  '0.105*\"jmc\" + 0.099*\"bhe\" + 0.077*\"her\" + 0.071*\"dcc\" + 0.065*\"lts\" + '\n",
      "  '0.058*\"ahf\" + 0.050*\"uac\" + 0.048*\"mccarthy-quad\" + 0.045*\"jep\" + '\n",
      "  '0.042*\"tfe\"'),\n",
      " (2,\n",
      "  '0.158*\"ssc\" + 0.130*\"ohe\" + 0.120*\"rth\" + 0.087*\"law\" + 0.063*\"pce\" + '\n",
      "  '0.057*\"vhe\" + 0.051*\"har\" + 0.035*\"ocw\" + 0.031*\"hed\" + '\n",
      "  '0.021*\"archimedes-plaza\"'),\n",
      " (3,\n",
      "  '0.180*\"sgm\" + 0.143*\"drb\" + 0.127*\"mcb\" + 0.094*\"evk\" + 0.070*\"sca\" + '\n",
      "  '0.057*\"asc\" + 0.042*\"col\" + 0.032*\"dwe-gate6\" + 0.029*\"hrh\" + 0.028*\"bsr\"'),\n",
      " (4,\n",
      "  '0.130*\"tro\" + 0.123*\"eeb\" + 0.072*\"wah\" + 0.068*\"pks\" + 0.067*\"wto\" + '\n",
      "  '0.052*\"jkp\" + 0.047*\"dxm\" + 0.041*\"jhh\" + 0.035*\"flt\" + 0.033*\"ptd\"'),\n",
      " (5,\n",
      "  '0.320*\"rri\" + 0.161*\"upx\" + 0.119*\"kap\" + 0.110*\"ger\" + 0.042*\"mts\" + '\n",
      "  '0.029*\"bdx\" + 0.029*\"bdf\" + 0.026*\"acb\" + 0.020*\"fpm\" + 0.014*\"dwe-gate6\"'),\n",
      " (6,\n",
      "  '0.177*\"psx\" + 0.129*\"zhs\" + 0.092*\"tcc\" + 0.066*\"iyh\" + 0.042*\"rzc\" + '\n",
      "  '0.040*\"acb\" + 0.037*\"crocker-plaza\" + 0.035*\"phe\" + 0.034*\"mccarthy-quad\" + '\n",
      "  '0.030*\"tfe\"'),\n",
      " (7,\n",
      "  '0.153*\"trf\" + 0.114*\"cdf\" + 0.106*\"psa\" + 0.056*\"fpm\" + 0.042*\"ohe\" + '\n",
      "  '0.040*\"mccarthy-quad\" + 0.040*\"lvl\" + 0.032*\"ann\" + 0.025*\"mcb\" + '\n",
      "  '0.023*\"lhi\"'),\n",
      " (8,\n",
      "  '0.729*\"den\" + 0.106*\"event\" + 0.029*\"adm\" + 0.017*\"gee-gate8\" + 0.016*\"psb\" '\n",
      "  '+ 0.011*\"mcb\" + 0.011*\"jef\" + 0.008*\"ped\" + 0.008*\"psd\" + 0.006*\"kap\"'),\n",
      " (9,\n",
      "  '0.351*\"esh\" + 0.103*\"ljs\" + 0.075*\"event\" + 0.059*\"psb\" + 0.053*\"swc\" + '\n",
      "  '0.040*\"gee-gate8\" + 0.032*\"uac\" + 0.029*\"flt\" + 0.019*\"mcc\" + 0.017*\"bkf\"')]\n"
     ]
    }
   ],
   "source": [
    "pprint.pprint(lda.print_topics(num_words=10))"
   ]
  },
  {
   "cell_type": "markdown",
   "metadata": {},
   "source": [
    "# Item Embedding"
   ]
  },
  {
   "cell_type": "code",
   "execution_count": 67,
   "metadata": {},
   "outputs": [
    {
     "name": "stdout",
     "output_type": "stream",
     "text": [
      "761111\n",
      "(761111, 6)\n",
      "6825\n",
      "0.5849212532731757\n"
     ]
    },
    {
     "name": "stderr",
     "output_type": "stream",
     "text": [
      "C:\\Users\\Administrator\\miniconda3\\envs\\min\\lib\\site-packages\\pandas\\core\\arrays\\timedeltas.py:569: RuntimeWarning: invalid value encountered in true_divide\n",
      "  return other / self._data\n"
     ]
    },
    {
     "name": "stdout",
     "output_type": "stream",
     "text": [
      "(95379, 3)\n"
     ]
    }
   ],
   "source": [
    "# group data\n",
    "g = df.groupby(['device_id', 'date', 'building'], as_index = False)\n",
    "print(g.ngroups)\n",
    "df_agg = g.agg(duration = ('duration', 'sum'),begin = ('start_time', 'min'), end = ('end_time', 'max'))\n",
    "print(df_agg.shape)\n",
    "print(df_agg['device_id'].nunique())\n",
    "\n",
    "pc = df_agg['duration']/(df_agg['end'] - df_agg['begin'])"
   ]
  },
  {
   "cell_type": "code",
   "execution_count": 79,
   "metadata": {},
   "outputs": [
    {
     "name": "stdout",
     "output_type": "stream",
     "text": [
      "0.5849212532731757\n",
      "(86447, 3)\n",
      "(86447, 3)\n"
     ]
    }
   ],
   "source": [
    "# filter data\n",
    "print(df_agg[df_agg['duration'] <= timedelta(minutes = 2)].shape[0]/df_agg.shape[0])\n",
    "df_agg_fl = df_agg[df_agg['duration'] >= timedelta(minutes = 5)]\n",
    "\n",
    "# merge data\n",
    "b = df_agg_fl.groupby(['device_id', 'date'], as_index = False).agg(building = ('building', lambda x: list(x.values)))\n",
    "print(b.shape)\n",
    "\n",
    "visit_length = b.apply(lambda row: len(row['building']), axis = 1)\n",
    "visit_length_unique = b.apply(lambda row: np.unique(np.asarray(row['building'])).shape[0], axis = 1)\n",
    "\n",
    "b = b[visit_length_unique > 0]\n",
    "print(b.shape)"
   ]
  },
  {
   "cell_type": "code",
   "execution_count": 86,
   "metadata": {},
   "outputs": [],
   "source": [
    "from gensim import corpora, models\n",
    "from collections import defaultdict\n",
    "import pprint\n",
    "import random\n",
    "random.seed(21)"
   ]
  },
  {
   "cell_type": "code",
   "execution_count": 97,
   "metadata": {},
   "outputs": [
    {
     "name": "stdout",
     "output_type": "stream",
     "text": [
      "86447\n",
      "Dictionary(155 unique tokens: ['kap', 'pks', 'mcc', 'rzc', 'cas']...)\n"
     ]
    },
    {
     "name": "stderr",
     "output_type": "stream",
     "text": [
      "C:\\Users\\Administrator\\AppData\\Roaming\\Python\\Python37\\site-packages\\ipykernel_launcher.py:28: DeprecationWarning: Call to deprecated `__getitem__` (Method will be removed in 4.0.0, use self.wv.__getitem__() instead).\n"
     ]
    },
    {
     "data": {
      "image/png": "[encoded data removed]",
      "text/plain": [
       "<Figure size 576x576 with 1 Axes>"
      ]
     },
     "metadata": {
      "needs_background": "light"
     },
     "output_type": "display_data"
    }
   ],
   "source": [
    "frequency = defaultdict(int)\n",
    "\n",
    "data = list(b.building.values)\n",
    "\n",
    "for device in data:\n",
    "    for bld in device:\n",
    "        frequency[bld] += 1\n",
    "\n",
    "# Only keep words that appear more than once\n",
    "processed_data = [[bld for bld in device] for device in data]\n",
    "print(len(processed_data))\n",
    "\n",
    "dictionary = corpora.Dictionary(processed_data)\n",
    "print(dictionary)\n",
    "\n",
    "# bag of words\n",
    "bow_data = [dictionary.doc2bow(device) for device in processed_data]\n",
    "\n",
    "w2v_model = models.fasttext.FastText(size = 5 ,window = 10)\n",
    "#w2v_model = models.Word2Vec(window=10, size=10, sample=6e-5, alpha=0.001, negative=10)\n",
    "w2v_model.build_vocab(data)\n",
    "w2v_model.train(data, total_examples=w2v_model.corpus_count, epochs=50, start_alpha=0.01,end_alpha=0.001)\n",
    "\n",
    "labels = []\n",
    "tokens = []\n",
    "\n",
    "for word in w2v_model.wv.vocab:\n",
    "    tokens.append(w2v_model[word])\n",
    "    labels.append(word)\n",
    "    \n",
    "tsne_model = TSNE(n_components=2, init='pca', n_iter=2500, random_state=23)\n",
    "    \n",
    "new_values = tsne_model.fit_transform(tokens)\n",
    "\n",
    "\n",
    "x = []\n",
    "y = []\n",
    "for value in new_values:\n",
    "    x.append(value[0])\n",
    "    y.append(value[1])\n",
    "\n",
    "plt.figure(figsize=(8, 8)) \n",
    "for i in range(len(x)):\n",
    "    plt.scatter(x[i],y[i])\n",
    "    plt.annotate(labels[i],\n",
    "                 xy=(x[i], y[i]),\n",
    "                 xytext=(5, 2),\n",
    "                 textcoords='offset points',\n",
    "                 ha='right',\n",
    "                 va='bottom',\n",
    "                 fontsize = 13)\n",
    "plt.show()"
   ]
  },
  {
   "cell_type": "markdown",
   "metadata": {},
   "source": [
    "# User Clustering 1 - based on places visited"
   ]
  },
  {
   "cell_type": "code",
   "execution_count": 99,
   "metadata": {},
   "outputs": [
    {
     "data": {
      "text/plain": [
       "0.06201517581939697"
      ]
     },
     "execution_count": 99,
     "metadata": {},
     "output_type": "execute_result"
    }
   ],
   "source": [
    "def wcd(str1, str2, w2v_model):\n",
    "    \n",
    "    l1 = str1.split(' ')\n",
    "    l2 = str2.split(' ')\n",
    "    \n",
    "    vec1 = np.sum(np.asarray([w2v_model.wv.get_vector(word) for word in l1]), axis = 0)/len(l1)\n",
    "    vec2 = np.sum(np.asarray([w2v_model.wv.get_vector(word) for word in l2]), axis = 0)/len(l2)\n",
    "    \n",
    "    return distance.cosine(vec1, vec2)\n",
    "\n",
    "wcd('her jmc trf uac', 'her bkf', w2v_model)"
   ]
  },
  {
   "cell_type": "code",
   "execution_count": 127,
   "metadata": {},
   "outputs": [
    {
     "name": "stderr",
     "output_type": "stream",
     "text": [
      "C:\\Users\\Administrator\\miniconda3\\envs\\min\\lib\\site-packages\\pandas\\core\\arrays\\timedeltas.py:569: RuntimeWarning: invalid value encountered in true_divide\n",
      "  return other / self._data\n"
     ]
    },
    {
     "name": "stdout",
     "output_type": "stream",
     "text": [
      "0.5849212532731757\n",
      "(3257, 2)\n",
      "3257\n",
      "['den den den den den den den event den den den den', 'cdf psd rri thh cdf rri wph cdf rri thh cdf rri cdf den phe cdf rri cdf rri cdf rri cdf rri vkc wph cdf lvl rri wph cdf cdf mccarthy-quad rri wph cdf rri cdf rri vkc cdf jhh rri wph cdf den rri', 'den den psb den den den den den den psb den', 'hsh rrb sto acb gfs hsh rrb sto gfs hsh rrb sto acb hsh rrb sto hsh rrb zhs gfs hsh rrb sto acb hsh rrb sto hsh rrb acb hsh rrb hsh rrb sto hsh rrb sto hsh rrb zhs hsh rrb sto', 'evk her hrh evk her hrh bsr evk her hrh bsr evk her bsr evk bsr evk her bsr evk her bsr evk her bsr evk her', 'den den den den den event den den den den den den den den', 'pks prb pks prb prb prb prb jef prb event prb prb event prb jef prb prb eeb prb prb eeb prb event jef prb prb prb event prb event prb jef prb', 'esh esh flt esh esh esh esh esh esh flt esh esh esh esh esh esh esh esh esh esh esh esh', 'zhs zhs zhs zhs zhs bri shs zhs zhs hahn-plaza zhs zhs zhs zhs zhs zhs zhs', 'wto den']\n",
      "Dictionary(155 unique tokens: ['kap', 'pks', 'mcc', 'rzc', 'cas']...)\n"
     ]
    }
   ],
   "source": [
    "# device data all dates\n",
    "pc = df_agg['duration']/(df_agg['end'] - df_agg['begin'])\n",
    "\n",
    "# filter data\n",
    "print(df_agg[df_agg['duration'] <= timedelta(minutes = 2)].shape[0]/df_agg.shape[0])\n",
    "df_agg_fl2 = df_agg[df_agg['duration'] >= timedelta(minutes = 30)]\n",
    "\n",
    "# merge data\n",
    "e = df_agg_fl2.groupby(['device_id'], as_index = False).agg(building = ('building', lambda x: list(x.values)))\n",
    "\n",
    "visit_length = e.apply(lambda row: len(row['building']), axis = 1)\n",
    "visit_length_unique = e.apply(lambda row: np.unique(np.asarray(row['building'])).shape[0], axis = 1)\n",
    "\n",
    "e = e[visit_length_unique > 1]\n",
    "\n",
    "print(e.shape)\n",
    "\n",
    "frequency_e = defaultdict(int)\n",
    "data_e = list(e.building.values)\n",
    "texts_e = [' '.join(device) for device in data_e]\n",
    "copura_e = [[w for w in sen ] for sen in data_e]\n",
    "print(len(texts_e))\n",
    "print(texts_e[0:10])\n",
    "\n",
    "dictionary_e = corpora.Dictionary(copura_e)\n",
    "print(dictionary)"
   ]
  },
  {
   "cell_type": "code",
   "execution_count": 128,
   "metadata": {},
   "outputs": [
    {
     "name": "stdout",
     "output_type": "stream",
     "text": [
      "Estimated number of clusters: 3\n",
      "For n_clusters = 3 The average silhouette_score is : 0.3319642\n",
      "Estimated number of clusters: 7\n",
      "For n_clusters = 7 The average silhouette_score is : 0.19025072\n",
      "Estimated number of clusters: 8\n",
      "For n_clusters = 8 The average silhouette_score is : 0.20368859\n",
      "Estimated number of clusters: 9\n",
      "For n_clusters = 9 The average silhouette_score is : 0.27925906\n",
      "Estimated number of clusters: 10\n",
      "For n_clusters = 10 The average silhouette_score is : 0.26535195\n",
      "Estimated number of clusters: 11\n",
      "For n_clusters = 11 The average silhouette_score is : 0.26958328\n",
      "Estimated number of clusters: 12\n",
      "For n_clusters = 12 The average silhouette_score is : 0.26662055\n",
      "Estimated number of clusters: 13\n",
      "For n_clusters = 13 The average silhouette_score is : 0.26040113\n",
      "Estimated number of clusters: 14\n",
      "For n_clusters = 14 The average silhouette_score is : 0.24444608\n",
      "Estimated number of clusters: 15\n",
      "For n_clusters = 15 The average silhouette_score is : 0.24899697\n",
      "Estimated number of clusters: 17\n",
      "For n_clusters = 17 The average silhouette_score is : 0.25955427\n",
      "Estimated number of clusters: 20\n",
      "For n_clusters = 20 The average silhouette_score is : 0.25631854\n",
      "Estimated number of clusters: 30\n",
      "For n_clusters = 30 The average silhouette_score is : 0.2846239\n"
     ]
    },
    {
     "data": {
      "image/png": "[encoded data removed]",
      "text/plain": [
       "<Figure size 432x288 with 1 Axes>"
      ]
     },
     "metadata": {
      "needs_background": "light"
     },
     "output_type": "display_data"
    }
   ],
   "source": [
    "from sklearn.feature_extraction.text import TfidfVectorizer\n",
    "from sklearn.cluster import AgglomerativeClustering, KMeans\n",
    "from sklearn.metrics import silhouette_samples, silhouette_score\n",
    "\n",
    "np.random.seed(21)\n",
    "\n",
    "# vectorizer = TfidfVectorizer()\n",
    "# X = vectorizer.fit_transform(processed_data)\n",
    "\n",
    "# document vector\n",
    "vc_data_e = [ np.sum([w2v_model.wv.get_vector(w) for w in sen], axis=0)/len(sen) for sen in copura_e]\n",
    "X = np.asarray(vc_data_e)\n",
    "\n",
    "# kmeans\n",
    "evl_score = []\n",
    "K = [3,7,8,9,10,11,12,13,14, 15,17, 20, 30]\n",
    "for k in K:\n",
    "    cl =  AgglomerativeClustering(n_clusters=k,linkage=\"average\", affinity='cosine').fit(X)\n",
    "    labels = cl.labels_\n",
    "    n_clusters_ = len(set(labels)) - (1 if -1 in labels else 0)\n",
    "    \n",
    "    silhouette_avg = silhouette_score(X, labels)\n",
    "\n",
    "    print('Estimated number of clusters: %d' % n_clusters_)\n",
    "    print(\"For n_clusters =\",k, \"The average silhouette_score is :\", silhouette_avg)\n",
    "    \n",
    "    evl_score.append(silhouette_avg)\n",
    "\n",
    "plt.plot(K, evl_score, 'bx-')\n",
    "plt.xlabel('k')\n",
    "plt.ylabel('evaluation score')\n",
    "plt.title('Elbow Method For Optimal k')\n",
    "plt.show()"
   ]
  },
  {
   "cell_type": "code",
   "execution_count": 129,
   "metadata": {},
   "outputs": [
    {
     "data": {
      "text/plain": [
       "0    1044\n",
       "6     506\n",
       "3     363\n",
       "8     345\n",
       "4     279\n",
       "2     276\n",
       "5     251\n",
       "1     116\n",
       "7      77\n",
       "Name: cluster, dtype: int64"
      ]
     },
     "execution_count": 129,
     "metadata": {},
     "output_type": "execute_result"
    }
   ],
   "source": [
    "true_k = 9\n",
    "\n",
    "cl =  AgglomerativeClustering(n_clusters=true_k,linkage=\"complete\", affinity='cosine').fit(X)\n",
    "labels = cl.labels_\n",
    "\n",
    "result={'cluster':labels,'data':copura_e}\n",
    "result=pd.DataFrame(result)\n",
    "result['cluster'].value_counts()"
   ]
  },
  {
   "cell_type": "code",
   "execution_count": 140,
   "metadata": {},
   "outputs": [
    {
     "name": "stdout",
     "output_type": "stream",
     "text": [
      "jmc, uac, lts, her, sgm, bdf, bkf, mts, bdx, jef, "
     ]
    }
   ],
   "source": [
    "for i in result[result['cluster'] == 8]['data'].explode().value_counts().index.values[0:10]:\n",
    "    print(i, end = \", \")"
   ]
  },
  {
   "cell_type": "markdown",
   "metadata": {},
   "source": [
    "# User Clustering 2 - based on temporal pattern"
   ]
  },
  {
   "cell_type": "code",
   "execution_count": null,
   "metadata": {},
   "outputs": [],
   "source": [
    "df_agg"
   ]
  },
  {
   "cell_type": "code",
   "execution_count": null,
   "metadata": {},
   "outputs": [],
   "source": [
    "g = df_agg.groupby(['device_id','date'], as_index = False)\n",
    "\n",
    "d = g.agg(stay_time = ('duration', 'sum'))"
   ]
  },
  {
   "cell_type": "code",
   "execution_count": null,
   "metadata": {},
   "outputs": [],
   "source": [
    "d_f = d[(d['stay_time']<= timedelta(hours = 20)) & (d['stay_time'] >= timedelta(minutes = 60))]\n",
    "\n",
    "n_days = d_f.groupby('device_id').agg(days = ('date', 'count'))\n",
    "\n",
    "device_remain = list(n_days[n_days['days'] > 10].index.values)\n",
    "\n",
    "d_f = d_f[d_f['device_id'].isin(device_remain)]\n",
    "\n",
    "print(d_f.shape)\n",
    "\n",
    "d_ariv = d_f.copy()\n",
    "\n",
    "d_ariv['arrived'] = 1\n",
    "\n",
    "d_ariv = d_ariv.drop('stay_time', axis = 1)\n",
    "\n",
    "f = d_ariv.set_index(['device_id', 'date']).unstack(level = -1, fill_value = 0)\n",
    "\n",
    "print(f.shape)\n",
    "\n",
    "f.columns = f.columns.droplevel()"
   ]
  },
  {
   "cell_type": "code",
   "execution_count": null,
   "metadata": {},
   "outputs": [],
   "source": [
    "s = f.iloc[3].values\n",
    "\n",
    "for s in f.values[0:100]:\n",
    "    for i in range(len(s)//7):\n",
    "        for j in range(i*7, (i+1)*7):\n",
    "            print(s[j], end=' ')\n",
    "        print()\n",
    "    print('==============================')"
   ]
  },
  {
   "cell_type": "code",
   "execution_count": null,
   "metadata": {},
   "outputs": [],
   "source": [
    "from sklearn.feature_extraction.text import TfidfVectorizer\n",
    "from sklearn.cluster import AgglomerativeClustering, KMeans\n",
    "from sklearn.metrics import silhouette_samples, silhouette_score\n",
    "\n",
    "np.random.seed(21)\n",
    "\n",
    "# vectorizer = TfidfVectorizer()\n",
    "# X = vectorizer.fit_transform(processed_data)\n",
    "\n",
    "# document vector\n",
    "X = f.values\n",
    "\n",
    "# kmeans\n",
    "evl_score = []\n",
    "K = [3,7,8,9,10,11,12,13,14, 15,17, 20, 30,50,100,150,200]\n",
    "for k in K:\n",
    "    cl =  KMeans(n_clusters=k).fit(X)\n",
    "    labels = cl.labels_\n",
    "    n_clusters_ = len(set(labels)) - (1 if -1 in labels else 0)\n",
    "    \n",
    "#     silhouette_avg = silhouette_score(X, labels)\n",
    "\n",
    "    silhouette_avg = cl.inertia_\n",
    "\n",
    "    print('Estimated number of clusters: %d' % n_clusters_)\n",
    "    print(\"For n_clusters =\",k, \"The average silhouette_score is :\", silhouette_avg)\n",
    "    \n",
    "    evl_score.append(silhouette_avg)\n",
    "\n",
    "plt.plot(K, evl_score, 'bx-')\n",
    "plt.xlabel('k')\n",
    "plt.ylabel('evaluation score')\n",
    "plt.title('Elbow Method For Optimal k')\n",
    "plt.show()"
   ]
  },
  {
   "cell_type": "code",
   "execution_count": null,
   "metadata": {},
   "outputs": [],
   "source": [
    "true_k = 25\n",
    "X = f.values\n",
    "cl =  KMeans(n_clusters=true_k).fit(X)\n",
    "labels = cl.labels_\n",
    "\n",
    "result={'cluster':labels}\n",
    "result=pd.DataFrame(result)\n",
    "result['cluster'].value_counts()"
   ]
  },
  {
   "cell_type": "code",
   "execution_count": null,
   "metadata": {},
   "outputs": [],
   "source": [
    "ff = f.iloc[result[result['cluster'] == 12].index,:]\n",
    "s = ff.iloc[3].values\n",
    "\n",
    "for s in ff.values[0:100]:\n",
    "    for i in range(len(s)//7):\n",
    "        for j in range(i*7, (i+1)*7):\n",
    "            print(s[j], end=' ')\n",
    "        print()\n",
    "    print('==============================')"
   ]
  },
  {
   "cell_type": "code",
   "execution_count": null,
   "metadata": {},
   "outputs": [],
   "source": [
    "ff = f.iloc[result[result['cluster'] == 10].index,:]\n",
    "\n",
    "s = 100\n",
    "x = ff.iloc[1].index.values\n",
    "y = ff.iloc[1].values\n",
    "\n",
    "#y = np.mean(y, axis = 0)\n",
    "\n",
    "plt.plot(x,y)\n",
    "\n",
    "plt.show()"
   ]
  },
  {
   "cell_type": "code",
   "execution_count": null,
   "metadata": {},
   "outputs": [],
   "source": []
  }
 ],
 "metadata": {
  "kernelspec": {
   "display_name": "Python 3",
   "language": "python",
   "name": "python3"
  },
  "language_info": {
   "codemirror_mode": {
    "name": "ipython",
    "version": 3
   },
   "file_extension": ".py",
   "mimetype": "text/x-python",
   "name": "python",
   "nbconvert_exporter": "python",
   "pygments_lexer": "ipython3",
   "version": "3.7.9"
  }
 },
 "nbformat": 4,
 "nbformat_minor": 2
}
